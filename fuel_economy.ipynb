{
  "nbformat": 4,
  "nbformat_minor": 0,
  "metadata": {
    "colab": {
      "name": "fuel economy.ipynb",
      "provenance": [],
      "collapsed_sections": [],
      "toc_visible": true
    },
    "kernelspec": {
      "name": "python3",
      "display_name": "Python 3"
    },
    "language_info": {
      "name": "python"
    }
  },
  "cells": [
    {
      "cell_type": "code",
      "metadata": {
        "id": "6V22UC69ZWx4"
      },
      "source": [
        "import pandas as pd\n",
        "import matplotlib.pyplot as plt\n",
        "% matplotlib inline\n",
        "from google.colab import files\n",
        "import io\n",
        "import seaborn as sns"
      ],
      "execution_count": 82,
      "outputs": []
    },
    {
      "cell_type": "markdown",
      "metadata": {
        "id": "QZpqsqC9a2Cy"
      },
      "source": [
        "# Gathering Data"
      ]
    },
    {
      "cell_type": "code",
      "metadata": {
        "colab": {
          "resources": {
            "http://localhost:8080/nbextensions/google.colab/files.js": {
              "data": "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",
              "ok": true,
              "headers": [
                [
                  "content-type",
                  "application/javascript"
                ]
              ],
              "status": 200,
              "status_text": ""
            }
          },
          "base_uri": "https://localhost:8080/",
          "height": 107
        },
        "id": "qpMu7cg4ZkbI",
        "outputId": "072a4192-1ca6-43f8-e202-0ceecd3c5fdb"
      },
      "source": [
        "uploaded = files.upload()\n",
        "df_18 = pd.read_csv(io.BytesIO(uploaded['all_alpha_18.csv']))\n",
        "df_08 = pd.read_csv(io.BytesIO(uploaded['all_alpha_08.csv']))"
      ],
      "execution_count": 83,
      "outputs": [
        {
          "output_type": "display_data",
          "data": {
            "text/html": [
              "\n",
              "     <input type=\"file\" id=\"files-2c682945-d3c1-44fe-9e84-c0153d1394c1\" name=\"files[]\" multiple disabled\n",
              "        style=\"border:none\" />\n",
              "     <output id=\"result-2c682945-d3c1-44fe-9e84-c0153d1394c1\">\n",
              "      Upload widget is only available when the cell has been executed in the\n",
              "      current browser session. Please rerun this cell to enable.\n",
              "      </output>\n",
              "      <script src=\"/nbextensions/google.colab/files.js\"></script> "
            ],
            "text/plain": [
              "<IPython.core.display.HTML object>"
            ]
          },
          "metadata": {
            "tags": []
          }
        },
        {
          "output_type": "stream",
          "text": [
            "Saving all_alpha_08.csv to all_alpha_08 (1).csv\n",
            "Saving all_alpha_18.csv to all_alpha_18 (1).csv\n"
          ],
          "name": "stdout"
        }
      ]
    },
    {
      "cell_type": "markdown",
      "metadata": {
        "id": "FGrXsG1Ea7AX"
      },
      "source": [
        "# Data Assessment"
      ]
    },
    {
      "cell_type": "markdown",
      "metadata": {
        "id": "uXQIZk-jbEjT"
      },
      "source": [
        "## 2008 Data"
      ]
    },
    {
      "cell_type": "code",
      "metadata": {
        "colab": {
          "base_uri": "https://localhost:8080/",
          "height": 334
        },
        "id": "iBGOjSMHbXQX",
        "outputId": "4188b8ab-1926-4306-e93f-7ca99e3240ec"
      },
      "source": [
        "df_08.head()"
      ],
      "execution_count": 84,
      "outputs": [
        {
          "output_type": "execute_result",
          "data": {
            "text/html": [
              "<div>\n",
              "<style scoped>\n",
              "    .dataframe tbody tr th:only-of-type {\n",
              "        vertical-align: middle;\n",
              "    }\n",
              "\n",
              "    .dataframe tbody tr th {\n",
              "        vertical-align: top;\n",
              "    }\n",
              "\n",
              "    .dataframe thead th {\n",
              "        text-align: right;\n",
              "    }\n",
              "</style>\n",
              "<table border=\"1\" class=\"dataframe\">\n",
              "  <thead>\n",
              "    <tr style=\"text-align: right;\">\n",
              "      <th></th>\n",
              "      <th>Model</th>\n",
              "      <th>Displ</th>\n",
              "      <th>Cyl</th>\n",
              "      <th>Trans</th>\n",
              "      <th>Drive</th>\n",
              "      <th>Fuel</th>\n",
              "      <th>Sales Area</th>\n",
              "      <th>Stnd</th>\n",
              "      <th>Underhood ID</th>\n",
              "      <th>Veh Class</th>\n",
              "      <th>Air Pollution Score</th>\n",
              "      <th>FE Calc Appr</th>\n",
              "      <th>City MPG</th>\n",
              "      <th>Hwy MPG</th>\n",
              "      <th>Cmb MPG</th>\n",
              "      <th>Unadj Cmb MPG</th>\n",
              "      <th>Greenhouse Gas Score</th>\n",
              "      <th>SmartWay</th>\n",
              "    </tr>\n",
              "  </thead>\n",
              "  <tbody>\n",
              "    <tr>\n",
              "      <th>0</th>\n",
              "      <td>ACURA MDX</td>\n",
              "      <td>3.7</td>\n",
              "      <td>(6 cyl)</td>\n",
              "      <td>Auto-S5</td>\n",
              "      <td>4WD</td>\n",
              "      <td>Gasoline</td>\n",
              "      <td>CA</td>\n",
              "      <td>U2</td>\n",
              "      <td>8HNXT03.7PKR</td>\n",
              "      <td>SUV</td>\n",
              "      <td>7</td>\n",
              "      <td>Drv</td>\n",
              "      <td>15</td>\n",
              "      <td>20</td>\n",
              "      <td>17</td>\n",
              "      <td>22.0527</td>\n",
              "      <td>4</td>\n",
              "      <td>no</td>\n",
              "    </tr>\n",
              "    <tr>\n",
              "      <th>1</th>\n",
              "      <td>ACURA MDX</td>\n",
              "      <td>3.7</td>\n",
              "      <td>(6 cyl)</td>\n",
              "      <td>Auto-S5</td>\n",
              "      <td>4WD</td>\n",
              "      <td>Gasoline</td>\n",
              "      <td>FA</td>\n",
              "      <td>B5</td>\n",
              "      <td>8HNXT03.7PKR</td>\n",
              "      <td>SUV</td>\n",
              "      <td>6</td>\n",
              "      <td>Drv</td>\n",
              "      <td>15</td>\n",
              "      <td>20</td>\n",
              "      <td>17</td>\n",
              "      <td>22.0527</td>\n",
              "      <td>4</td>\n",
              "      <td>no</td>\n",
              "    </tr>\n",
              "    <tr>\n",
              "      <th>2</th>\n",
              "      <td>ACURA RDX</td>\n",
              "      <td>2.3</td>\n",
              "      <td>(4 cyl)</td>\n",
              "      <td>Auto-S5</td>\n",
              "      <td>4WD</td>\n",
              "      <td>Gasoline</td>\n",
              "      <td>CA</td>\n",
              "      <td>U2</td>\n",
              "      <td>8HNXT02.3DKR</td>\n",
              "      <td>SUV</td>\n",
              "      <td>7</td>\n",
              "      <td>Drv</td>\n",
              "      <td>17</td>\n",
              "      <td>22</td>\n",
              "      <td>19</td>\n",
              "      <td>24.1745</td>\n",
              "      <td>5</td>\n",
              "      <td>no</td>\n",
              "    </tr>\n",
              "    <tr>\n",
              "      <th>3</th>\n",
              "      <td>ACURA RDX</td>\n",
              "      <td>2.3</td>\n",
              "      <td>(4 cyl)</td>\n",
              "      <td>Auto-S5</td>\n",
              "      <td>4WD</td>\n",
              "      <td>Gasoline</td>\n",
              "      <td>FA</td>\n",
              "      <td>B5</td>\n",
              "      <td>8HNXT02.3DKR</td>\n",
              "      <td>SUV</td>\n",
              "      <td>6</td>\n",
              "      <td>Drv</td>\n",
              "      <td>17</td>\n",
              "      <td>22</td>\n",
              "      <td>19</td>\n",
              "      <td>24.1745</td>\n",
              "      <td>5</td>\n",
              "      <td>no</td>\n",
              "    </tr>\n",
              "    <tr>\n",
              "      <th>4</th>\n",
              "      <td>ACURA RL</td>\n",
              "      <td>3.5</td>\n",
              "      <td>(6 cyl)</td>\n",
              "      <td>Auto-S5</td>\n",
              "      <td>4WD</td>\n",
              "      <td>Gasoline</td>\n",
              "      <td>CA</td>\n",
              "      <td>U2</td>\n",
              "      <td>8HNXV03.5HKR</td>\n",
              "      <td>midsize car</td>\n",
              "      <td>7</td>\n",
              "      <td>Drv</td>\n",
              "      <td>16</td>\n",
              "      <td>24</td>\n",
              "      <td>19</td>\n",
              "      <td>24.5629</td>\n",
              "      <td>5</td>\n",
              "      <td>no</td>\n",
              "    </tr>\n",
              "  </tbody>\n",
              "</table>\n",
              "</div>"
            ],
            "text/plain": [
              "       Model  Displ      Cyl  ... Unadj Cmb MPG Greenhouse Gas Score SmartWay\n",
              "0  ACURA MDX    3.7  (6 cyl)  ...       22.0527                    4       no\n",
              "1  ACURA MDX    3.7  (6 cyl)  ...       22.0527                    4       no\n",
              "2  ACURA RDX    2.3  (4 cyl)  ...       24.1745                    5       no\n",
              "3  ACURA RDX    2.3  (4 cyl)  ...       24.1745                    5       no\n",
              "4   ACURA RL    3.5  (6 cyl)  ...       24.5629                    5       no\n",
              "\n",
              "[5 rows x 18 columns]"
            ]
          },
          "metadata": {
            "tags": []
          },
          "execution_count": 84
        }
      ]
    },
    {
      "cell_type": "code",
      "metadata": {
        "colab": {
          "base_uri": "https://localhost:8080/"
        },
        "id": "v87bNV0-aoub",
        "outputId": "576d8662-f445-410b-ae82-8c427714e0d1"
      },
      "source": [
        "df_08.info()"
      ],
      "execution_count": 85,
      "outputs": [
        {
          "output_type": "stream",
          "text": [
            "<class 'pandas.core.frame.DataFrame'>\n",
            "RangeIndex: 2404 entries, 0 to 2403\n",
            "Data columns (total 18 columns):\n",
            " #   Column                Non-Null Count  Dtype  \n",
            "---  ------                --------------  -----  \n",
            " 0   Model                 2404 non-null   object \n",
            " 1   Displ                 2404 non-null   float64\n",
            " 2   Cyl                   2205 non-null   object \n",
            " 3   Trans                 2205 non-null   object \n",
            " 4   Drive                 2311 non-null   object \n",
            " 5   Fuel                  2404 non-null   object \n",
            " 6   Sales Area            2404 non-null   object \n",
            " 7   Stnd                  2404 non-null   object \n",
            " 8   Underhood ID          2404 non-null   object \n",
            " 9   Veh Class             2404 non-null   object \n",
            " 10  Air Pollution Score   2404 non-null   object \n",
            " 11  FE Calc Appr          2205 non-null   object \n",
            " 12  City MPG              2205 non-null   object \n",
            " 13  Hwy MPG               2205 non-null   object \n",
            " 14  Cmb MPG               2205 non-null   object \n",
            " 15  Unadj Cmb MPG         2205 non-null   float64\n",
            " 16  Greenhouse Gas Score  2205 non-null   object \n",
            " 17  SmartWay              2404 non-null   object \n",
            "dtypes: float64(2), object(16)\n",
            "memory usage: 338.2+ KB\n"
          ],
          "name": "stdout"
        }
      ]
    },
    {
      "cell_type": "code",
      "metadata": {
        "colab": {
          "base_uri": "https://localhost:8080/"
        },
        "id": "nBoTTfAhbOyH",
        "outputId": "7d998766-be0e-429b-c743-44abcaad813c"
      },
      "source": [
        "df_08.duplicated().sum()"
      ],
      "execution_count": 86,
      "outputs": [
        {
          "output_type": "execute_result",
          "data": {
            "text/plain": [
              "25"
            ]
          },
          "metadata": {
            "tags": []
          },
          "execution_count": 86
        }
      ]
    },
    {
      "cell_type": "code",
      "metadata": {
        "colab": {
          "base_uri": "https://localhost:8080/"
        },
        "id": "FYQHdb4gclj4",
        "outputId": "f4da543e-c84b-4778-cf12-9b93ebc32bc0"
      },
      "source": [
        "df_08.isnull().sum()"
      ],
      "execution_count": 87,
      "outputs": [
        {
          "output_type": "execute_result",
          "data": {
            "text/plain": [
              "Model                     0\n",
              "Displ                     0\n",
              "Cyl                     199\n",
              "Trans                   199\n",
              "Drive                    93\n",
              "Fuel                      0\n",
              "Sales Area                0\n",
              "Stnd                      0\n",
              "Underhood ID              0\n",
              "Veh Class                 0\n",
              "Air Pollution Score       0\n",
              "FE Calc Appr            199\n",
              "City MPG                199\n",
              "Hwy MPG                 199\n",
              "Cmb MPG                 199\n",
              "Unadj Cmb MPG           199\n",
              "Greenhouse Gas Score    199\n",
              "SmartWay                  0\n",
              "dtype: int64"
            ]
          },
          "metadata": {
            "tags": []
          },
          "execution_count": 87
        }
      ]
    },
    {
      "cell_type": "code",
      "metadata": {
        "colab": {
          "base_uri": "https://localhost:8080/"
        },
        "id": "x0eS3LnAc_V0",
        "outputId": "4e558d14-305e-4bbc-daa7-24241575d373"
      },
      "source": [
        "df_08.nunique()"
      ],
      "execution_count": 88,
      "outputs": [
        {
          "output_type": "execute_result",
          "data": {
            "text/plain": [
              "Model                   436\n",
              "Displ                    47\n",
              "Cyl                       8\n",
              "Trans                    14\n",
              "Drive                     2\n",
              "Fuel                      5\n",
              "Sales Area                3\n",
              "Stnd                     12\n",
              "Underhood ID            343\n",
              "Veh Class                 9\n",
              "Air Pollution Score      13\n",
              "FE Calc Appr              2\n",
              "City MPG                 39\n",
              "Hwy MPG                  43\n",
              "Cmb MPG                  38\n",
              "Unadj Cmb MPG           721\n",
              "Greenhouse Gas Score     20\n",
              "SmartWay                  2\n",
              "dtype: int64"
            ]
          },
          "metadata": {
            "tags": []
          },
          "execution_count": 88
        }
      ]
    },
    {
      "cell_type": "code",
      "metadata": {
        "colab": {
          "base_uri": "https://localhost:8080/"
        },
        "id": "hzvzdJtgdr56",
        "outputId": "0f130328-be36-401d-deab-637f1c54c881"
      },
      "source": [
        "df_08.columns"
      ],
      "execution_count": 89,
      "outputs": [
        {
          "output_type": "execute_result",
          "data": {
            "text/plain": [
              "Index(['Model', 'Displ', 'Cyl', 'Trans', 'Drive', 'Fuel', 'Sales Area', 'Stnd',\n",
              "       'Underhood ID', 'Veh Class', 'Air Pollution Score', 'FE Calc Appr',\n",
              "       'City MPG', 'Hwy MPG', 'Cmb MPG', 'Unadj Cmb MPG',\n",
              "       'Greenhouse Gas Score', 'SmartWay'],\n",
              "      dtype='object')"
            ]
          },
          "metadata": {
            "tags": []
          },
          "execution_count": 89
        }
      ]
    },
    {
      "cell_type": "markdown",
      "metadata": {
        "id": "ynK3VPO7e2Gg"
      },
      "source": [
        "### Summary:\n",
        "- data type: [Air Pollution Score, City MPG\t,Hwy MPG,\tCmb MPG,Greenhouse Gas Score] columns need to be integers rather than objects\n",
        "- duplicated rows\n",
        "- missing values: [Cyl , Trans , Drive , FE Calc Appr , City MPG , Hwy MPG,\tCmb MPG ,\tUnadj Cmb MPG\t, Greenhouse Gas Score]\n",
        "- rename columns\n",
        "- remove unuseful columns"
      ]
    },
    {
      "cell_type": "markdown",
      "metadata": {
        "id": "jaaFjpN-d7gi"
      },
      "source": [
        "## 2018 Data"
      ]
    },
    {
      "cell_type": "code",
      "metadata": {
        "colab": {
          "base_uri": "https://localhost:8080/",
          "height": 351
        },
        "id": "pRf5NsqzcUKY",
        "outputId": "81c75449-b9d6-4bf8-ecb2-20545216ad68"
      },
      "source": [
        "df_18.head()"
      ],
      "execution_count": 90,
      "outputs": [
        {
          "output_type": "execute_result",
          "data": {
            "text/html": [
              "<div>\n",
              "<style scoped>\n",
              "    .dataframe tbody tr th:only-of-type {\n",
              "        vertical-align: middle;\n",
              "    }\n",
              "\n",
              "    .dataframe tbody tr th {\n",
              "        vertical-align: top;\n",
              "    }\n",
              "\n",
              "    .dataframe thead th {\n",
              "        text-align: right;\n",
              "    }\n",
              "</style>\n",
              "<table border=\"1\" class=\"dataframe\">\n",
              "  <thead>\n",
              "    <tr style=\"text-align: right;\">\n",
              "      <th></th>\n",
              "      <th>Model</th>\n",
              "      <th>Displ</th>\n",
              "      <th>Cyl</th>\n",
              "      <th>Trans</th>\n",
              "      <th>Drive</th>\n",
              "      <th>Fuel</th>\n",
              "      <th>Cert Region</th>\n",
              "      <th>Stnd</th>\n",
              "      <th>Stnd Description</th>\n",
              "      <th>Underhood ID</th>\n",
              "      <th>Veh Class</th>\n",
              "      <th>Air Pollution Score</th>\n",
              "      <th>City MPG</th>\n",
              "      <th>Hwy MPG</th>\n",
              "      <th>Cmb MPG</th>\n",
              "      <th>Greenhouse Gas Score</th>\n",
              "      <th>SmartWay</th>\n",
              "      <th>Comb CO2</th>\n",
              "    </tr>\n",
              "  </thead>\n",
              "  <tbody>\n",
              "    <tr>\n",
              "      <th>0</th>\n",
              "      <td>ACURA RDX</td>\n",
              "      <td>3.5</td>\n",
              "      <td>6.0</td>\n",
              "      <td>SemiAuto-6</td>\n",
              "      <td>2WD</td>\n",
              "      <td>Gasoline</td>\n",
              "      <td>FA</td>\n",
              "      <td>T3B125</td>\n",
              "      <td>Federal Tier 3 Bin 125</td>\n",
              "      <td>JHNXT03.5GV3</td>\n",
              "      <td>small SUV</td>\n",
              "      <td>3</td>\n",
              "      <td>20</td>\n",
              "      <td>28</td>\n",
              "      <td>23</td>\n",
              "      <td>5</td>\n",
              "      <td>No</td>\n",
              "      <td>386</td>\n",
              "    </tr>\n",
              "    <tr>\n",
              "      <th>1</th>\n",
              "      <td>ACURA RDX</td>\n",
              "      <td>3.5</td>\n",
              "      <td>6.0</td>\n",
              "      <td>SemiAuto-6</td>\n",
              "      <td>2WD</td>\n",
              "      <td>Gasoline</td>\n",
              "      <td>CA</td>\n",
              "      <td>U2</td>\n",
              "      <td>California LEV-II ULEV</td>\n",
              "      <td>JHNXT03.5GV3</td>\n",
              "      <td>small SUV</td>\n",
              "      <td>3</td>\n",
              "      <td>20</td>\n",
              "      <td>28</td>\n",
              "      <td>23</td>\n",
              "      <td>5</td>\n",
              "      <td>No</td>\n",
              "      <td>386</td>\n",
              "    </tr>\n",
              "    <tr>\n",
              "      <th>2</th>\n",
              "      <td>ACURA RDX</td>\n",
              "      <td>3.5</td>\n",
              "      <td>6.0</td>\n",
              "      <td>SemiAuto-6</td>\n",
              "      <td>4WD</td>\n",
              "      <td>Gasoline</td>\n",
              "      <td>FA</td>\n",
              "      <td>T3B125</td>\n",
              "      <td>Federal Tier 3 Bin 125</td>\n",
              "      <td>JHNXT03.5GV3</td>\n",
              "      <td>small SUV</td>\n",
              "      <td>3</td>\n",
              "      <td>19</td>\n",
              "      <td>27</td>\n",
              "      <td>22</td>\n",
              "      <td>4</td>\n",
              "      <td>No</td>\n",
              "      <td>402</td>\n",
              "    </tr>\n",
              "    <tr>\n",
              "      <th>3</th>\n",
              "      <td>ACURA RDX</td>\n",
              "      <td>3.5</td>\n",
              "      <td>6.0</td>\n",
              "      <td>SemiAuto-6</td>\n",
              "      <td>4WD</td>\n",
              "      <td>Gasoline</td>\n",
              "      <td>CA</td>\n",
              "      <td>U2</td>\n",
              "      <td>California LEV-II ULEV</td>\n",
              "      <td>JHNXT03.5GV3</td>\n",
              "      <td>small SUV</td>\n",
              "      <td>3</td>\n",
              "      <td>19</td>\n",
              "      <td>27</td>\n",
              "      <td>22</td>\n",
              "      <td>4</td>\n",
              "      <td>No</td>\n",
              "      <td>402</td>\n",
              "    </tr>\n",
              "    <tr>\n",
              "      <th>4</th>\n",
              "      <td>ACURA TLX</td>\n",
              "      <td>2.4</td>\n",
              "      <td>4.0</td>\n",
              "      <td>AMS-8</td>\n",
              "      <td>2WD</td>\n",
              "      <td>Gasoline</td>\n",
              "      <td>CA</td>\n",
              "      <td>L3ULEV125</td>\n",
              "      <td>California LEV-III ULEV125</td>\n",
              "      <td>JHNXV02.4WH3</td>\n",
              "      <td>small car</td>\n",
              "      <td>3</td>\n",
              "      <td>23</td>\n",
              "      <td>33</td>\n",
              "      <td>27</td>\n",
              "      <td>6</td>\n",
              "      <td>No</td>\n",
              "      <td>330</td>\n",
              "    </tr>\n",
              "  </tbody>\n",
              "</table>\n",
              "</div>"
            ],
            "text/plain": [
              "       Model  Displ  Cyl  ... Greenhouse Gas Score SmartWay Comb CO2\n",
              "0  ACURA RDX    3.5  6.0  ...                    5       No      386\n",
              "1  ACURA RDX    3.5  6.0  ...                    5       No      386\n",
              "2  ACURA RDX    3.5  6.0  ...                    4       No      402\n",
              "3  ACURA RDX    3.5  6.0  ...                    4       No      402\n",
              "4  ACURA TLX    2.4  4.0  ...                    6       No      330\n",
              "\n",
              "[5 rows x 18 columns]"
            ]
          },
          "metadata": {
            "tags": []
          },
          "execution_count": 90
        }
      ]
    },
    {
      "cell_type": "code",
      "metadata": {
        "colab": {
          "base_uri": "https://localhost:8080/"
        },
        "id": "Wn1bGgvOeC1G",
        "outputId": "ac6dc0d4-7ad1-4841-8fb1-c48098686953"
      },
      "source": [
        "df_18.info()"
      ],
      "execution_count": 91,
      "outputs": [
        {
          "output_type": "stream",
          "text": [
            "<class 'pandas.core.frame.DataFrame'>\n",
            "RangeIndex: 1611 entries, 0 to 1610\n",
            "Data columns (total 18 columns):\n",
            " #   Column                Non-Null Count  Dtype  \n",
            "---  ------                --------------  -----  \n",
            " 0   Model                 1611 non-null   object \n",
            " 1   Displ                 1609 non-null   float64\n",
            " 2   Cyl                   1609 non-null   float64\n",
            " 3   Trans                 1611 non-null   object \n",
            " 4   Drive                 1611 non-null   object \n",
            " 5   Fuel                  1611 non-null   object \n",
            " 6   Cert Region           1611 non-null   object \n",
            " 7   Stnd                  1611 non-null   object \n",
            " 8   Stnd Description      1611 non-null   object \n",
            " 9   Underhood ID          1611 non-null   object \n",
            " 10  Veh Class             1611 non-null   object \n",
            " 11  Air Pollution Score   1611 non-null   int64  \n",
            " 12  City MPG              1611 non-null   object \n",
            " 13  Hwy MPG               1611 non-null   object \n",
            " 14  Cmb MPG               1611 non-null   object \n",
            " 15  Greenhouse Gas Score  1611 non-null   int64  \n",
            " 16  SmartWay              1611 non-null   object \n",
            " 17  Comb CO2              1611 non-null   object \n",
            "dtypes: float64(2), int64(2), object(14)\n",
            "memory usage: 226.7+ KB\n"
          ],
          "name": "stdout"
        }
      ]
    },
    {
      "cell_type": "code",
      "metadata": {
        "colab": {
          "base_uri": "https://localhost:8080/"
        },
        "id": "W9feqQx_eiUm",
        "outputId": "d6effbf2-4538-4ecf-d698-88d7819f656c"
      },
      "source": [
        "df_18.duplicated().sum()"
      ],
      "execution_count": 92,
      "outputs": [
        {
          "output_type": "execute_result",
          "data": {
            "text/plain": [
              "0"
            ]
          },
          "metadata": {
            "tags": []
          },
          "execution_count": 92
        }
      ]
    },
    {
      "cell_type": "code",
      "metadata": {
        "colab": {
          "base_uri": "https://localhost:8080/"
        },
        "id": "2zKQQrBvfbzc",
        "outputId": "51a99015-bc4c-4226-9ec2-fe2b195af94e"
      },
      "source": [
        "df_18.isnull().sum()"
      ],
      "execution_count": 93,
      "outputs": [
        {
          "output_type": "execute_result",
          "data": {
            "text/plain": [
              "Model                   0\n",
              "Displ                   2\n",
              "Cyl                     2\n",
              "Trans                   0\n",
              "Drive                   0\n",
              "Fuel                    0\n",
              "Cert Region             0\n",
              "Stnd                    0\n",
              "Stnd Description        0\n",
              "Underhood ID            0\n",
              "Veh Class               0\n",
              "Air Pollution Score     0\n",
              "City MPG                0\n",
              "Hwy MPG                 0\n",
              "Cmb MPG                 0\n",
              "Greenhouse Gas Score    0\n",
              "SmartWay                0\n",
              "Comb CO2                0\n",
              "dtype: int64"
            ]
          },
          "metadata": {
            "tags": []
          },
          "execution_count": 93
        }
      ]
    },
    {
      "cell_type": "markdown",
      "metadata": {
        "id": "0T-o8yK_btBN"
      },
      "source": [
        "### Summary:\n",
        "- data type: [City MPG , Hwy MPG , Cmb MPG , Comb CO2] need to be an integers rathar than objects\n",
        "- missing values : Displ , cyl columns\n",
        "- renaming columns\n",
        "- remove unuseful columns"
      ]
    },
    {
      "cell_type": "markdown",
      "metadata": {
        "id": "OqR3GgyljwY6"
      },
      "source": [
        "# Data Cleaning"
      ]
    },
    {
      "cell_type": "markdown",
      "metadata": {
        "id": "xOrjRv4kj05b"
      },
      "source": [
        "## 2008 Data"
      ]
    },
    {
      "cell_type": "markdown",
      "metadata": {
        "id": "O6rFotNbF6Z4"
      },
      "source": [
        "### 1- Issue: removeing unuseful columns"
      ]
    },
    {
      "cell_type": "markdown",
      "metadata": {
        "id": "qTUrUSwoG6rl"
      },
      "source": [
        "### Code"
      ]
    },
    {
      "cell_type": "code",
      "metadata": {
        "id": "SBMm0mqmkC28"
      },
      "source": [
        "df_08.drop(['Stnd', 'Underhood ID', 'FE Calc Appr', 'Unadj Cmb MPG'],axis=1 , inplace=True)"
      ],
      "execution_count": 94,
      "outputs": []
    },
    {
      "cell_type": "markdown",
      "metadata": {
        "id": "4ackC9aVG9f_"
      },
      "source": [
        "### Test"
      ]
    },
    {
      "cell_type": "code",
      "metadata": {
        "colab": {
          "base_uri": "https://localhost:8080/"
        },
        "id": "WCRQ2cnJG__0",
        "outputId": "170b1fdc-d82a-4f52-cf06-f624ee8fd57c"
      },
      "source": [
        "df_08.columns"
      ],
      "execution_count": 95,
      "outputs": [
        {
          "output_type": "execute_result",
          "data": {
            "text/plain": [
              "Index(['Model', 'Displ', 'Cyl', 'Trans', 'Drive', 'Fuel', 'Sales Area',\n",
              "       'Veh Class', 'Air Pollution Score', 'City MPG', 'Hwy MPG', 'Cmb MPG',\n",
              "       'Greenhouse Gas Score', 'SmartWay'],\n",
              "      dtype='object')"
            ]
          },
          "metadata": {
            "tags": []
          },
          "execution_count": 95
        }
      ]
    },
    {
      "cell_type": "markdown",
      "metadata": {
        "id": "5INBxPxYIoYV"
      },
      "source": [
        "### 2- Issue: rename columns"
      ]
    },
    {
      "cell_type": "markdown",
      "metadata": {
        "id": "mTCcMHKsI20N"
      },
      "source": [
        "### Code"
      ]
    },
    {
      "cell_type": "code",
      "metadata": {
        "id": "MFEp8QToI1zr"
      },
      "source": [
        "df_08.rename(columns= {'Sales Area':'Cert Region'},inplace=True)\n",
        "df_08.rename(columns= lambda x : x.strip().lower().replace(' ','_'),inplace =True)"
      ],
      "execution_count": 96,
      "outputs": []
    },
    {
      "cell_type": "markdown",
      "metadata": {
        "id": "pwZXMDQmSWcH"
      },
      "source": [
        "### Test"
      ]
    },
    {
      "cell_type": "code",
      "metadata": {
        "colab": {
          "base_uri": "https://localhost:8080/"
        },
        "id": "l0_4sjbeI2Na",
        "outputId": "bb27f7a9-39fd-4370-ad15-ebd173525934"
      },
      "source": [
        "df_08.columns"
      ],
      "execution_count": 97,
      "outputs": [
        {
          "output_type": "execute_result",
          "data": {
            "text/plain": [
              "Index(['model', 'displ', 'cyl', 'trans', 'drive', 'fuel', 'cert_region',\n",
              "       'veh_class', 'air_pollution_score', 'city_mpg', 'hwy_mpg', 'cmb_mpg',\n",
              "       'greenhouse_gas_score', 'smartway'],\n",
              "      dtype='object')"
            ]
          },
          "metadata": {
            "tags": []
          },
          "execution_count": 97
        }
      ]
    },
    {
      "cell_type": "markdown",
      "metadata": {
        "id": "Bdco4e0UTVvR"
      },
      "source": [
        "### 3-Issue: Drop Duplicates"
      ]
    },
    {
      "cell_type": "markdown",
      "metadata": {
        "id": "xyL0b9ylUGxj"
      },
      "source": [
        "### Code"
      ]
    },
    {
      "cell_type": "code",
      "metadata": {
        "id": "zgz3_POITob3"
      },
      "source": [
        "df_08.drop_duplicates(inplace=True)"
      ],
      "execution_count": 98,
      "outputs": []
    },
    {
      "cell_type": "markdown",
      "metadata": {
        "id": "n_pzOF_LTWTe"
      },
      "source": [
        "### Test"
      ]
    },
    {
      "cell_type": "code",
      "metadata": {
        "colab": {
          "base_uri": "https://localhost:8080/"
        },
        "id": "25t2bFMjUJ-D",
        "outputId": "ccd033b5-9612-4c6c-ddfd-5e319290c545"
      },
      "source": [
        "df_08.duplicated().sum()"
      ],
      "execution_count": 99,
      "outputs": [
        {
          "output_type": "execute_result",
          "data": {
            "text/plain": [
              "0"
            ]
          },
          "metadata": {
            "tags": []
          },
          "execution_count": 99
        }
      ]
    },
    {
      "cell_type": "markdown",
      "metadata": {
        "id": "Dm7-bt1BTWaM"
      },
      "source": [
        "### 4- Issue: Missing Values"
      ]
    },
    {
      "cell_type": "markdown",
      "metadata": {
        "id": "tRbpc8o7Xv45"
      },
      "source": [
        "### Code"
      ]
    },
    {
      "cell_type": "code",
      "metadata": {
        "id": "LizHjz4lXt2p"
      },
      "source": [
        "df_08.dropna(inplace=True)"
      ],
      "execution_count": 100,
      "outputs": []
    },
    {
      "cell_type": "markdown",
      "metadata": {
        "id": "9ZISScINXy9Q"
      },
      "source": [
        "### Test"
      ]
    },
    {
      "cell_type": "code",
      "metadata": {
        "id": "8LaW2nfaXzX1",
        "colab": {
          "base_uri": "https://localhost:8080/"
        },
        "outputId": "f0591e4b-8f6d-4594-dea8-a8c5bf1c0eff"
      },
      "source": [
        "df_08.isnull().sum()"
      ],
      "execution_count": 101,
      "outputs": [
        {
          "output_type": "execute_result",
          "data": {
            "text/plain": [
              "model                   0\n",
              "displ                   0\n",
              "cyl                     0\n",
              "trans                   0\n",
              "drive                   0\n",
              "fuel                    0\n",
              "cert_region             0\n",
              "veh_class               0\n",
              "air_pollution_score     0\n",
              "city_mpg                0\n",
              "hwy_mpg                 0\n",
              "cmb_mpg                 0\n",
              "greenhouse_gas_score    0\n",
              "smartway                0\n",
              "dtype: int64"
            ]
          },
          "metadata": {
            "tags": []
          },
          "execution_count": 101
        }
      ]
    },
    {
      "cell_type": "markdown",
      "metadata": {
        "id": "qXz7W7OPTWWX"
      },
      "source": [
        "### 5- Issue: Data Type"
      ]
    },
    {
      "cell_type": "markdown",
      "metadata": {
        "id": "oKEu6JfEcQu9"
      },
      "source": [
        "- cyl column: convert into int"
      ]
    },
    {
      "cell_type": "code",
      "metadata": {
        "colab": {
          "base_uri": "https://localhost:8080/"
        },
        "id": "jcqU2wA3cZjQ",
        "outputId": "d85a3903-78be-46e7-af3a-73d26436c00e"
      },
      "source": [
        "df_08.cyl.value_counts()"
      ],
      "execution_count": 102,
      "outputs": [
        {
          "output_type": "execute_result",
          "data": {
            "text/plain": [
              "(6 cyl)     836\n",
              "(4 cyl)     582\n",
              "(8 cyl)     516\n",
              "(5 cyl)     113\n",
              "(12 cyl)     60\n",
              "(10 cyl)     29\n",
              "(2 cyl)       4\n",
              "(16 cyl)      2\n",
              "Name: cyl, dtype: int64"
            ]
          },
          "metadata": {
            "tags": []
          },
          "execution_count": 102
        }
      ]
    },
    {
      "cell_type": "code",
      "metadata": {
        "id": "RyT0GQLLcj9I"
      },
      "source": [
        "df_08.cyl = df_08.cyl.str.extract('(\\d+)').astype('int')"
      ],
      "execution_count": 103,
      "outputs": []
    },
    {
      "cell_type": "code",
      "metadata": {
        "colab": {
          "base_uri": "https://localhost:8080/"
        },
        "id": "pEBhgqrXcuqb",
        "outputId": "f26b79f4-275a-4c01-f550-7711ccc48e06"
      },
      "source": [
        "df_08.cyl.value_counts()"
      ],
      "execution_count": 104,
      "outputs": [
        {
          "output_type": "execute_result",
          "data": {
            "text/plain": [
              "6     836\n",
              "4     582\n",
              "8     516\n",
              "5     113\n",
              "12     60\n",
              "10     29\n",
              "2       4\n",
              "16      2\n",
              "Name: cyl, dtype: int64"
            ]
          },
          "metadata": {
            "tags": []
          },
          "execution_count": 104
        }
      ]
    },
    {
      "cell_type": "markdown",
      "metadata": {
        "id": "pmkPsnmRdSCi"
      },
      "source": [
        "- air_pollution_score column: convert into float"
      ]
    },
    {
      "cell_type": "code",
      "metadata": {
        "colab": {
          "base_uri": "https://localhost:8080/"
        },
        "id": "INo16MHqn_L2",
        "outputId": "37efe9da-510b-4fc5-81bc-a2a81286be98"
      },
      "source": [
        "df_08.air_pollution_score.value_counts()"
      ],
      "execution_count": 105,
      "outputs": [
        {
          "output_type": "execute_result",
          "data": {
            "text/plain": [
              "6      1418\n",
              "7       504\n",
              "9.5      80\n",
              "6/6      32\n",
              "3        31\n",
              "9        23\n",
              "3/3      20\n",
              "8        15\n",
              "7/7      12\n",
              "1         6\n",
              "6/4       1\n",
              "Name: air_pollution_score, dtype: int64"
            ]
          },
          "metadata": {
            "tags": []
          },
          "execution_count": 105
        }
      ]
    },
    {
      "cell_type": "code",
      "metadata": {
        "colab": {
          "base_uri": "https://localhost:8080/",
          "height": 367
        },
        "id": "AXt-vLJDoKch",
        "outputId": "5afc2013-d2c3-4d9d-fc7d-66b62cea8667"
      },
      "source": [
        "test_08= df_08[df_08.air_pollution_score.str.contains('/')].copy()\n",
        "test_08.head()"
      ],
      "execution_count": 106,
      "outputs": [
        {
          "output_type": "execute_result",
          "data": {
            "text/html": [
              "<div>\n",
              "<style scoped>\n",
              "    .dataframe tbody tr th:only-of-type {\n",
              "        vertical-align: middle;\n",
              "    }\n",
              "\n",
              "    .dataframe tbody tr th {\n",
              "        vertical-align: top;\n",
              "    }\n",
              "\n",
              "    .dataframe thead th {\n",
              "        text-align: right;\n",
              "    }\n",
              "</style>\n",
              "<table border=\"1\" class=\"dataframe\">\n",
              "  <thead>\n",
              "    <tr style=\"text-align: right;\">\n",
              "      <th></th>\n",
              "      <th>model</th>\n",
              "      <th>displ</th>\n",
              "      <th>cyl</th>\n",
              "      <th>trans</th>\n",
              "      <th>drive</th>\n",
              "      <th>fuel</th>\n",
              "      <th>cert_region</th>\n",
              "      <th>veh_class</th>\n",
              "      <th>air_pollution_score</th>\n",
              "      <th>city_mpg</th>\n",
              "      <th>hwy_mpg</th>\n",
              "      <th>cmb_mpg</th>\n",
              "      <th>greenhouse_gas_score</th>\n",
              "      <th>smartway</th>\n",
              "    </tr>\n",
              "  </thead>\n",
              "  <tbody>\n",
              "    <tr>\n",
              "      <th>316</th>\n",
              "      <td>CHEVROLET Avalanche 1500</td>\n",
              "      <td>5.3</td>\n",
              "      <td>8</td>\n",
              "      <td>Auto-L4</td>\n",
              "      <td>2WD</td>\n",
              "      <td>ethanol/gas</td>\n",
              "      <td>FC</td>\n",
              "      <td>SUV</td>\n",
              "      <td>7/7</td>\n",
              "      <td>11/14</td>\n",
              "      <td>15/20</td>\n",
              "      <td>12/16</td>\n",
              "      <td>6/4</td>\n",
              "      <td>no</td>\n",
              "    </tr>\n",
              "    <tr>\n",
              "      <th>317</th>\n",
              "      <td>CHEVROLET Avalanche 1500</td>\n",
              "      <td>5.3</td>\n",
              "      <td>8</td>\n",
              "      <td>Auto-L4</td>\n",
              "      <td>4WD</td>\n",
              "      <td>ethanol/gas</td>\n",
              "      <td>FC</td>\n",
              "      <td>SUV</td>\n",
              "      <td>7/7</td>\n",
              "      <td>11/14</td>\n",
              "      <td>14/19</td>\n",
              "      <td>12/16</td>\n",
              "      <td>6/4</td>\n",
              "      <td>no</td>\n",
              "    </tr>\n",
              "    <tr>\n",
              "      <th>321</th>\n",
              "      <td>CHEVROLET Avalanche 1500</td>\n",
              "      <td>5.3</td>\n",
              "      <td>8</td>\n",
              "      <td>Auto-L4</td>\n",
              "      <td>2WD</td>\n",
              "      <td>ethanol/gas</td>\n",
              "      <td>FC</td>\n",
              "      <td>SUV</td>\n",
              "      <td>6/6</td>\n",
              "      <td>11/14</td>\n",
              "      <td>15/20</td>\n",
              "      <td>12/16</td>\n",
              "      <td>6/4</td>\n",
              "      <td>no</td>\n",
              "    </tr>\n",
              "    <tr>\n",
              "      <th>322</th>\n",
              "      <td>CHEVROLET Avalanche 1500</td>\n",
              "      <td>5.3</td>\n",
              "      <td>8</td>\n",
              "      <td>Auto-L4</td>\n",
              "      <td>4WD</td>\n",
              "      <td>ethanol/gas</td>\n",
              "      <td>FC</td>\n",
              "      <td>SUV</td>\n",
              "      <td>6/6</td>\n",
              "      <td>11/14</td>\n",
              "      <td>14/19</td>\n",
              "      <td>12/16</td>\n",
              "      <td>6/4</td>\n",
              "      <td>no</td>\n",
              "    </tr>\n",
              "    <tr>\n",
              "      <th>380</th>\n",
              "      <td>CHEVROLET Express 1500</td>\n",
              "      <td>5.3</td>\n",
              "      <td>8</td>\n",
              "      <td>Auto-L4</td>\n",
              "      <td>4WD</td>\n",
              "      <td>ethanol/gas</td>\n",
              "      <td>FC</td>\n",
              "      <td>van</td>\n",
              "      <td>6/6</td>\n",
              "      <td>9/12</td>\n",
              "      <td>12/16</td>\n",
              "      <td>10/14</td>\n",
              "      <td>4/2</td>\n",
              "      <td>no</td>\n",
              "    </tr>\n",
              "  </tbody>\n",
              "</table>\n",
              "</div>"
            ],
            "text/plain": [
              "                        model  displ  cyl  ... cmb_mpg greenhouse_gas_score smartway\n",
              "316  CHEVROLET Avalanche 1500    5.3    8  ...   12/16                  6/4       no\n",
              "317  CHEVROLET Avalanche 1500    5.3    8  ...   12/16                  6/4       no\n",
              "321  CHEVROLET Avalanche 1500    5.3    8  ...   12/16                  6/4       no\n",
              "322  CHEVROLET Avalanche 1500    5.3    8  ...   12/16                  6/4       no\n",
              "380    CHEVROLET Express 1500    5.3    8  ...   10/14                  4/2       no\n",
              "\n",
              "[5 rows x 14 columns]"
            ]
          },
          "metadata": {
            "tags": []
          },
          "execution_count": 106
        }
      ]
    },
    {
      "cell_type": "markdown",
      "metadata": {
        "id": "HZPFm3DKm7uD"
      },
      "source": [
        "- notice there are columns also have two values such as [city_mpg,\thwy_mpg,\tcmb_mpg\t,fuel, greenhouse_gas_score,air_pollution_score] splited by '/' and found that these vehicles that have two values use two types of the fuel. so, we will need to split them into individual rows"
      ]
    },
    {
      "cell_type": "code",
      "metadata": {
        "id": "YOp0W-4wsEr6"
      },
      "source": [
        "t1 = test_08.copy()\n",
        "t2 = test_08.copy()"
      ],
      "execution_count": 107,
      "outputs": []
    },
    {
      "cell_type": "code",
      "metadata": {
        "id": "KFWNBFb7pfB4"
      },
      "source": [
        "split_columns = ['city_mpg', 'hwy_mpg', 'cmb_mpg' ,'fuel', 'greenhouse_gas_score','air_pollution_score']\n",
        "for c in split_columns:\n",
        "  t1[c] = t1[c].apply(lambda x : x.split('/')[0])\n",
        "  t2[c] = t2[c].apply(lambda x : x.split('/')[1])"
      ],
      "execution_count": 108,
      "outputs": []
    },
    {
      "cell_type": "code",
      "metadata": {
        "colab": {
          "base_uri": "https://localhost:8080/",
          "height": 194
        },
        "id": "0N1HSPT50N-i",
        "outputId": "f73324b1-c7cd-4b50-b0bf-b2a18aca718f"
      },
      "source": [
        "t1.head(2)"
      ],
      "execution_count": 109,
      "outputs": [
        {
          "output_type": "execute_result",
          "data": {
            "text/html": [
              "<div>\n",
              "<style scoped>\n",
              "    .dataframe tbody tr th:only-of-type {\n",
              "        vertical-align: middle;\n",
              "    }\n",
              "\n",
              "    .dataframe tbody tr th {\n",
              "        vertical-align: top;\n",
              "    }\n",
              "\n",
              "    .dataframe thead th {\n",
              "        text-align: right;\n",
              "    }\n",
              "</style>\n",
              "<table border=\"1\" class=\"dataframe\">\n",
              "  <thead>\n",
              "    <tr style=\"text-align: right;\">\n",
              "      <th></th>\n",
              "      <th>model</th>\n",
              "      <th>displ</th>\n",
              "      <th>cyl</th>\n",
              "      <th>trans</th>\n",
              "      <th>drive</th>\n",
              "      <th>fuel</th>\n",
              "      <th>cert_region</th>\n",
              "      <th>veh_class</th>\n",
              "      <th>air_pollution_score</th>\n",
              "      <th>city_mpg</th>\n",
              "      <th>hwy_mpg</th>\n",
              "      <th>cmb_mpg</th>\n",
              "      <th>greenhouse_gas_score</th>\n",
              "      <th>smartway</th>\n",
              "    </tr>\n",
              "  </thead>\n",
              "  <tbody>\n",
              "    <tr>\n",
              "      <th>316</th>\n",
              "      <td>CHEVROLET Avalanche 1500</td>\n",
              "      <td>5.3</td>\n",
              "      <td>8</td>\n",
              "      <td>Auto-L4</td>\n",
              "      <td>2WD</td>\n",
              "      <td>ethanol</td>\n",
              "      <td>FC</td>\n",
              "      <td>SUV</td>\n",
              "      <td>7</td>\n",
              "      <td>11</td>\n",
              "      <td>15</td>\n",
              "      <td>12</td>\n",
              "      <td>6</td>\n",
              "      <td>no</td>\n",
              "    </tr>\n",
              "    <tr>\n",
              "      <th>317</th>\n",
              "      <td>CHEVROLET Avalanche 1500</td>\n",
              "      <td>5.3</td>\n",
              "      <td>8</td>\n",
              "      <td>Auto-L4</td>\n",
              "      <td>4WD</td>\n",
              "      <td>ethanol</td>\n",
              "      <td>FC</td>\n",
              "      <td>SUV</td>\n",
              "      <td>7</td>\n",
              "      <td>11</td>\n",
              "      <td>14</td>\n",
              "      <td>12</td>\n",
              "      <td>6</td>\n",
              "      <td>no</td>\n",
              "    </tr>\n",
              "  </tbody>\n",
              "</table>\n",
              "</div>"
            ],
            "text/plain": [
              "                        model  displ  cyl  ... cmb_mpg greenhouse_gas_score smartway\n",
              "316  CHEVROLET Avalanche 1500    5.3    8  ...      12                    6       no\n",
              "317  CHEVROLET Avalanche 1500    5.3    8  ...      12                    6       no\n",
              "\n",
              "[2 rows x 14 columns]"
            ]
          },
          "metadata": {
            "tags": []
          },
          "execution_count": 109
        }
      ]
    },
    {
      "cell_type": "code",
      "metadata": {
        "colab": {
          "base_uri": "https://localhost:8080/",
          "height": 194
        },
        "id": "ABuXJrwV0gX9",
        "outputId": "a1574018-570b-494b-ab4b-5392f60e2622"
      },
      "source": [
        "t2.head(2)"
      ],
      "execution_count": 110,
      "outputs": [
        {
          "output_type": "execute_result",
          "data": {
            "text/html": [
              "<div>\n",
              "<style scoped>\n",
              "    .dataframe tbody tr th:only-of-type {\n",
              "        vertical-align: middle;\n",
              "    }\n",
              "\n",
              "    .dataframe tbody tr th {\n",
              "        vertical-align: top;\n",
              "    }\n",
              "\n",
              "    .dataframe thead th {\n",
              "        text-align: right;\n",
              "    }\n",
              "</style>\n",
              "<table border=\"1\" class=\"dataframe\">\n",
              "  <thead>\n",
              "    <tr style=\"text-align: right;\">\n",
              "      <th></th>\n",
              "      <th>model</th>\n",
              "      <th>displ</th>\n",
              "      <th>cyl</th>\n",
              "      <th>trans</th>\n",
              "      <th>drive</th>\n",
              "      <th>fuel</th>\n",
              "      <th>cert_region</th>\n",
              "      <th>veh_class</th>\n",
              "      <th>air_pollution_score</th>\n",
              "      <th>city_mpg</th>\n",
              "      <th>hwy_mpg</th>\n",
              "      <th>cmb_mpg</th>\n",
              "      <th>greenhouse_gas_score</th>\n",
              "      <th>smartway</th>\n",
              "    </tr>\n",
              "  </thead>\n",
              "  <tbody>\n",
              "    <tr>\n",
              "      <th>316</th>\n",
              "      <td>CHEVROLET Avalanche 1500</td>\n",
              "      <td>5.3</td>\n",
              "      <td>8</td>\n",
              "      <td>Auto-L4</td>\n",
              "      <td>2WD</td>\n",
              "      <td>gas</td>\n",
              "      <td>FC</td>\n",
              "      <td>SUV</td>\n",
              "      <td>7</td>\n",
              "      <td>14</td>\n",
              "      <td>20</td>\n",
              "      <td>16</td>\n",
              "      <td>4</td>\n",
              "      <td>no</td>\n",
              "    </tr>\n",
              "    <tr>\n",
              "      <th>317</th>\n",
              "      <td>CHEVROLET Avalanche 1500</td>\n",
              "      <td>5.3</td>\n",
              "      <td>8</td>\n",
              "      <td>Auto-L4</td>\n",
              "      <td>4WD</td>\n",
              "      <td>gas</td>\n",
              "      <td>FC</td>\n",
              "      <td>SUV</td>\n",
              "      <td>7</td>\n",
              "      <td>14</td>\n",
              "      <td>19</td>\n",
              "      <td>16</td>\n",
              "      <td>4</td>\n",
              "      <td>no</td>\n",
              "    </tr>\n",
              "  </tbody>\n",
              "</table>\n",
              "</div>"
            ],
            "text/plain": [
              "                        model  displ  cyl  ... cmb_mpg greenhouse_gas_score smartway\n",
              "316  CHEVROLET Avalanche 1500    5.3    8  ...      16                    4       no\n",
              "317  CHEVROLET Avalanche 1500    5.3    8  ...      16                    4       no\n",
              "\n",
              "[2 rows x 14 columns]"
            ]
          },
          "metadata": {
            "tags": []
          },
          "execution_count": 110
        }
      ]
    },
    {
      "cell_type": "code",
      "metadata": {
        "colab": {
          "base_uri": "https://localhost:8080/",
          "height": 660
        },
        "id": "mLHtVF4w0ky7",
        "outputId": "e4e1ce32-3d8a-4e48-f84d-8cd0a2a40f33"
      },
      "source": [
        "new_test = t1.append(t2)\n",
        "new_test"
      ],
      "execution_count": 111,
      "outputs": [
        {
          "output_type": "execute_result",
          "data": {
            "text/html": [
              "<div>\n",
              "<style scoped>\n",
              "    .dataframe tbody tr th:only-of-type {\n",
              "        vertical-align: middle;\n",
              "    }\n",
              "\n",
              "    .dataframe tbody tr th {\n",
              "        vertical-align: top;\n",
              "    }\n",
              "\n",
              "    .dataframe thead th {\n",
              "        text-align: right;\n",
              "    }\n",
              "</style>\n",
              "<table border=\"1\" class=\"dataframe\">\n",
              "  <thead>\n",
              "    <tr style=\"text-align: right;\">\n",
              "      <th></th>\n",
              "      <th>model</th>\n",
              "      <th>displ</th>\n",
              "      <th>cyl</th>\n",
              "      <th>trans</th>\n",
              "      <th>drive</th>\n",
              "      <th>fuel</th>\n",
              "      <th>cert_region</th>\n",
              "      <th>veh_class</th>\n",
              "      <th>air_pollution_score</th>\n",
              "      <th>city_mpg</th>\n",
              "      <th>hwy_mpg</th>\n",
              "      <th>cmb_mpg</th>\n",
              "      <th>greenhouse_gas_score</th>\n",
              "      <th>smartway</th>\n",
              "    </tr>\n",
              "  </thead>\n",
              "  <tbody>\n",
              "    <tr>\n",
              "      <th>316</th>\n",
              "      <td>CHEVROLET Avalanche 1500</td>\n",
              "      <td>5.3</td>\n",
              "      <td>8</td>\n",
              "      <td>Auto-L4</td>\n",
              "      <td>2WD</td>\n",
              "      <td>ethanol</td>\n",
              "      <td>FC</td>\n",
              "      <td>SUV</td>\n",
              "      <td>7</td>\n",
              "      <td>11</td>\n",
              "      <td>15</td>\n",
              "      <td>12</td>\n",
              "      <td>6</td>\n",
              "      <td>no</td>\n",
              "    </tr>\n",
              "    <tr>\n",
              "      <th>317</th>\n",
              "      <td>CHEVROLET Avalanche 1500</td>\n",
              "      <td>5.3</td>\n",
              "      <td>8</td>\n",
              "      <td>Auto-L4</td>\n",
              "      <td>4WD</td>\n",
              "      <td>ethanol</td>\n",
              "      <td>FC</td>\n",
              "      <td>SUV</td>\n",
              "      <td>7</td>\n",
              "      <td>11</td>\n",
              "      <td>14</td>\n",
              "      <td>12</td>\n",
              "      <td>6</td>\n",
              "      <td>no</td>\n",
              "    </tr>\n",
              "    <tr>\n",
              "      <th>321</th>\n",
              "      <td>CHEVROLET Avalanche 1500</td>\n",
              "      <td>5.3</td>\n",
              "      <td>8</td>\n",
              "      <td>Auto-L4</td>\n",
              "      <td>2WD</td>\n",
              "      <td>ethanol</td>\n",
              "      <td>FC</td>\n",
              "      <td>SUV</td>\n",
              "      <td>6</td>\n",
              "      <td>11</td>\n",
              "      <td>15</td>\n",
              "      <td>12</td>\n",
              "      <td>6</td>\n",
              "      <td>no</td>\n",
              "    </tr>\n",
              "    <tr>\n",
              "      <th>322</th>\n",
              "      <td>CHEVROLET Avalanche 1500</td>\n",
              "      <td>5.3</td>\n",
              "      <td>8</td>\n",
              "      <td>Auto-L4</td>\n",
              "      <td>4WD</td>\n",
              "      <td>ethanol</td>\n",
              "      <td>FC</td>\n",
              "      <td>SUV</td>\n",
              "      <td>6</td>\n",
              "      <td>11</td>\n",
              "      <td>14</td>\n",
              "      <td>12</td>\n",
              "      <td>6</td>\n",
              "      <td>no</td>\n",
              "    </tr>\n",
              "    <tr>\n",
              "      <th>380</th>\n",
              "      <td>CHEVROLET Express 1500</td>\n",
              "      <td>5.3</td>\n",
              "      <td>8</td>\n",
              "      <td>Auto-L4</td>\n",
              "      <td>4WD</td>\n",
              "      <td>ethanol</td>\n",
              "      <td>FC</td>\n",
              "      <td>van</td>\n",
              "      <td>6</td>\n",
              "      <td>9</td>\n",
              "      <td>12</td>\n",
              "      <td>10</td>\n",
              "      <td>4</td>\n",
              "      <td>no</td>\n",
              "    </tr>\n",
              "    <tr>\n",
              "      <th>...</th>\n",
              "      <td>...</td>\n",
              "      <td>...</td>\n",
              "      <td>...</td>\n",
              "      <td>...</td>\n",
              "      <td>...</td>\n",
              "      <td>...</td>\n",
              "      <td>...</td>\n",
              "      <td>...</td>\n",
              "      <td>...</td>\n",
              "      <td>...</td>\n",
              "      <td>...</td>\n",
              "      <td>...</td>\n",
              "      <td>...</td>\n",
              "      <td>...</td>\n",
              "    </tr>\n",
              "    <tr>\n",
              "      <th>1734</th>\n",
              "      <td>MITSUBISHI Raider</td>\n",
              "      <td>4.7</td>\n",
              "      <td>8</td>\n",
              "      <td>Auto-L5</td>\n",
              "      <td>4WD</td>\n",
              "      <td>gas</td>\n",
              "      <td>FA</td>\n",
              "      <td>pickup</td>\n",
              "      <td>3</td>\n",
              "      <td>14</td>\n",
              "      <td>19</td>\n",
              "      <td>15</td>\n",
              "      <td>3</td>\n",
              "      <td>no</td>\n",
              "    </tr>\n",
              "    <tr>\n",
              "      <th>1764</th>\n",
              "      <td>NISSAN Armada</td>\n",
              "      <td>5.6</td>\n",
              "      <td>8</td>\n",
              "      <td>Auto-L5</td>\n",
              "      <td>2WD</td>\n",
              "      <td>gas</td>\n",
              "      <td>FA</td>\n",
              "      <td>SUV</td>\n",
              "      <td>6</td>\n",
              "      <td>12</td>\n",
              "      <td>18</td>\n",
              "      <td>14</td>\n",
              "      <td>2</td>\n",
              "      <td>no</td>\n",
              "    </tr>\n",
              "    <tr>\n",
              "      <th>1765</th>\n",
              "      <td>NISSAN Armada</td>\n",
              "      <td>5.6</td>\n",
              "      <td>8</td>\n",
              "      <td>Auto-L5</td>\n",
              "      <td>4WD</td>\n",
              "      <td>gas</td>\n",
              "      <td>FA</td>\n",
              "      <td>SUV</td>\n",
              "      <td>6</td>\n",
              "      <td>12</td>\n",
              "      <td>17</td>\n",
              "      <td>14</td>\n",
              "      <td>2</td>\n",
              "      <td>no</td>\n",
              "    </tr>\n",
              "    <tr>\n",
              "      <th>1808</th>\n",
              "      <td>NISSAN Titan</td>\n",
              "      <td>5.6</td>\n",
              "      <td>8</td>\n",
              "      <td>Auto-L5</td>\n",
              "      <td>2WD</td>\n",
              "      <td>gas</td>\n",
              "      <td>FA</td>\n",
              "      <td>pickup</td>\n",
              "      <td>6</td>\n",
              "      <td>12</td>\n",
              "      <td>17</td>\n",
              "      <td>14</td>\n",
              "      <td>2</td>\n",
              "      <td>no</td>\n",
              "    </tr>\n",
              "    <tr>\n",
              "      <th>1809</th>\n",
              "      <td>NISSAN Titan</td>\n",
              "      <td>5.6</td>\n",
              "      <td>8</td>\n",
              "      <td>Auto-L5</td>\n",
              "      <td>4WD</td>\n",
              "      <td>gas</td>\n",
              "      <td>FA</td>\n",
              "      <td>pickup</td>\n",
              "      <td>6</td>\n",
              "      <td>12</td>\n",
              "      <td>17</td>\n",
              "      <td>14</td>\n",
              "      <td>2</td>\n",
              "      <td>no</td>\n",
              "    </tr>\n",
              "  </tbody>\n",
              "</table>\n",
              "<p>130 rows × 14 columns</p>\n",
              "</div>"
            ],
            "text/plain": [
              "                         model  displ  ...  greenhouse_gas_score smartway\n",
              "316   CHEVROLET Avalanche 1500    5.3  ...                     6       no\n",
              "317   CHEVROLET Avalanche 1500    5.3  ...                     6       no\n",
              "321   CHEVROLET Avalanche 1500    5.3  ...                     6       no\n",
              "322   CHEVROLET Avalanche 1500    5.3  ...                     6       no\n",
              "380     CHEVROLET Express 1500    5.3  ...                     4       no\n",
              "...                        ...    ...  ...                   ...      ...\n",
              "1734         MITSUBISHI Raider    4.7  ...                     3       no\n",
              "1764             NISSAN Armada    5.6  ...                     2       no\n",
              "1765             NISSAN Armada    5.6  ...                     2       no\n",
              "1808              NISSAN Titan    5.6  ...                     2       no\n",
              "1809              NISSAN Titan    5.6  ...                     2       no\n",
              "\n",
              "[130 rows x 14 columns]"
            ]
          },
          "metadata": {
            "tags": []
          },
          "execution_count": 111
        }
      ]
    },
    {
      "cell_type": "code",
      "metadata": {
        "id": "R0XBWOg10k-S"
      },
      "source": [
        "df_08.drop(test_08.index,inplace=True)"
      ],
      "execution_count": 112,
      "outputs": []
    },
    {
      "cell_type": "code",
      "metadata": {
        "id": "0KuvAjx528pK"
      },
      "source": [
        "df_08 = df_08.append(new_test)"
      ],
      "execution_count": 113,
      "outputs": []
    },
    {
      "cell_type": "code",
      "metadata": {
        "colab": {
          "base_uri": "https://localhost:8080/",
          "height": 67
        },
        "id": "ms3UpTsF0lBV",
        "outputId": "3e385efe-8805-4a7a-fc77-79d0a55dce73"
      },
      "source": [
        "df_08[df_08.fuel.str.contains('/')]"
      ],
      "execution_count": 114,
      "outputs": [
        {
          "output_type": "execute_result",
          "data": {
            "text/html": [
              "<div>\n",
              "<style scoped>\n",
              "    .dataframe tbody tr th:only-of-type {\n",
              "        vertical-align: middle;\n",
              "    }\n",
              "\n",
              "    .dataframe tbody tr th {\n",
              "        vertical-align: top;\n",
              "    }\n",
              "\n",
              "    .dataframe thead th {\n",
              "        text-align: right;\n",
              "    }\n",
              "</style>\n",
              "<table border=\"1\" class=\"dataframe\">\n",
              "  <thead>\n",
              "    <tr style=\"text-align: right;\">\n",
              "      <th></th>\n",
              "      <th>model</th>\n",
              "      <th>displ</th>\n",
              "      <th>cyl</th>\n",
              "      <th>trans</th>\n",
              "      <th>drive</th>\n",
              "      <th>fuel</th>\n",
              "      <th>cert_region</th>\n",
              "      <th>veh_class</th>\n",
              "      <th>air_pollution_score</th>\n",
              "      <th>city_mpg</th>\n",
              "      <th>hwy_mpg</th>\n",
              "      <th>cmb_mpg</th>\n",
              "      <th>greenhouse_gas_score</th>\n",
              "      <th>smartway</th>\n",
              "    </tr>\n",
              "  </thead>\n",
              "  <tbody>\n",
              "  </tbody>\n",
              "</table>\n",
              "</div>"
            ],
            "text/plain": [
              "Empty DataFrame\n",
              "Columns: [model, displ, cyl, trans, drive, fuel, cert_region, veh_class, air_pollution_score, city_mpg, hwy_mpg, cmb_mpg, greenhouse_gas_score, smartway]\n",
              "Index: []"
            ]
          },
          "metadata": {
            "tags": []
          },
          "execution_count": 114
        }
      ]
    },
    {
      "cell_type": "code",
      "metadata": {
        "colab": {
          "base_uri": "https://localhost:8080/"
        },
        "id": "hHuZbOI21VIP",
        "outputId": "9fab6432-9c9c-4309-8687-60904db3b4e8"
      },
      "source": [
        "df_08.shape"
      ],
      "execution_count": 115,
      "outputs": [
        {
          "output_type": "execute_result",
          "data": {
            "text/plain": [
              "(2207, 14)"
            ]
          },
          "metadata": {
            "tags": []
          },
          "execution_count": 115
        }
      ]
    },
    {
      "cell_type": "code",
      "metadata": {
        "colab": {
          "base_uri": "https://localhost:8080/"
        },
        "id": "9E7YyLXO1hRm",
        "outputId": "ddb744e8-4c9a-4e86-df3c-021e1f6469c7"
      },
      "source": [
        "df_08.dtypes"
      ],
      "execution_count": 116,
      "outputs": [
        {
          "output_type": "execute_result",
          "data": {
            "text/plain": [
              "model                    object\n",
              "displ                   float64\n",
              "cyl                       int64\n",
              "trans                    object\n",
              "drive                    object\n",
              "fuel                     object\n",
              "cert_region              object\n",
              "veh_class                object\n",
              "air_pollution_score      object\n",
              "city_mpg                 object\n",
              "hwy_mpg                  object\n",
              "cmb_mpg                  object\n",
              "greenhouse_gas_score     object\n",
              "smartway                 object\n",
              "dtype: object"
            ]
          },
          "metadata": {
            "tags": []
          },
          "execution_count": 116
        }
      ]
    },
    {
      "cell_type": "markdown",
      "metadata": {
        "id": "S0kGI0ZI1rlG"
      },
      "source": [
        "- change the columns [air_pollution_score\t, city_mpg , hwy_mpg\tcmb_mpg ,\tgreenhouse_gas_score] datatype from object into int"
      ]
    },
    {
      "cell_type": "code",
      "metadata": {
        "id": "lQLK2K062GNU"
      },
      "source": [
        "cols = ['air_pollution_score' , 'city_mpg' , 'hwy_mpg','cmb_mpg'] \n",
        "for c in cols:\n",
        "  df_08[c] = df_08[c].astype('float')\n",
        "df_08['greenhouse_gas_score'] = df_08['greenhouse_gas_score'].astype('int')"
      ],
      "execution_count": 117,
      "outputs": []
    },
    {
      "cell_type": "code",
      "metadata": {
        "colab": {
          "base_uri": "https://localhost:8080/"
        },
        "id": "AwkE0gq95OOz",
        "outputId": "2f3d101f-2b30-4d80-835e-04e5808e2cf2"
      },
      "source": [
        "df_08.dtypes"
      ],
      "execution_count": 118,
      "outputs": [
        {
          "output_type": "execute_result",
          "data": {
            "text/plain": [
              "model                    object\n",
              "displ                   float64\n",
              "cyl                       int64\n",
              "trans                    object\n",
              "drive                    object\n",
              "fuel                     object\n",
              "cert_region              object\n",
              "veh_class                object\n",
              "air_pollution_score     float64\n",
              "city_mpg                float64\n",
              "hwy_mpg                 float64\n",
              "cmb_mpg                 float64\n",
              "greenhouse_gas_score      int64\n",
              "smartway                 object\n",
              "dtype: object"
            ]
          },
          "metadata": {
            "tags": []
          },
          "execution_count": 118
        }
      ]
    },
    {
      "cell_type": "markdown",
      "metadata": {
        "id": "9y0BbBRvkADJ"
      },
      "source": [
        "## 2018 Data"
      ]
    },
    {
      "cell_type": "markdown",
      "metadata": {
        "id": "Z3euVPt_daDs"
      },
      "source": [
        "### 1- Issue: unuseful columns"
      ]
    },
    {
      "cell_type": "markdown",
      "metadata": {
        "id": "7FX3be-SeEj2"
      },
      "source": [
        "### Code"
      ]
    },
    {
      "cell_type": "code",
      "metadata": {
        "id": "fmUh77gfeFKd"
      },
      "source": [
        "df_18.drop(['Stnd', 'Stnd Description', 'Underhood ID', 'Comb CO2'],axis=1,inplace=True)"
      ],
      "execution_count": 119,
      "outputs": []
    },
    {
      "cell_type": "markdown",
      "metadata": {
        "id": "7l3nPg3AeFui"
      },
      "source": [
        "### Test"
      ]
    },
    {
      "cell_type": "code",
      "metadata": {
        "colab": {
          "base_uri": "https://localhost:8080/"
        },
        "id": "wNQqC2CLeF6u",
        "outputId": "b4828bd9-9ad7-4a5a-efe1-6cd9edd22c40"
      },
      "source": [
        "df_18.columns"
      ],
      "execution_count": 120,
      "outputs": [
        {
          "output_type": "execute_result",
          "data": {
            "text/plain": [
              "Index(['Model', 'Displ', 'Cyl', 'Trans', 'Drive', 'Fuel', 'Cert Region',\n",
              "       'Veh Class', 'Air Pollution Score', 'City MPG', 'Hwy MPG', 'Cmb MPG',\n",
              "       'Greenhouse Gas Score', 'SmartWay'],\n",
              "      dtype='object')"
            ]
          },
          "metadata": {
            "tags": []
          },
          "execution_count": 120
        }
      ]
    },
    {
      "cell_type": "markdown",
      "metadata": {
        "id": "0jPmD98ddZru"
      },
      "source": [
        "### 2- Issue: Rename Columns"
      ]
    },
    {
      "cell_type": "markdown",
      "metadata": {
        "id": "ycbIJczLeL1M"
      },
      "source": [
        "### Code"
      ]
    },
    {
      "cell_type": "code",
      "metadata": {
        "id": "vz6FK5YjeL1P"
      },
      "source": [
        "df_18.rename(columns = lambda x : x.strip().lower().replace(' ','_'),inplace=True)"
      ],
      "execution_count": 121,
      "outputs": []
    },
    {
      "cell_type": "markdown",
      "metadata": {
        "id": "zINgAMCOeL1Q"
      },
      "source": [
        "### Test"
      ]
    },
    {
      "cell_type": "code",
      "metadata": {
        "colab": {
          "base_uri": "https://localhost:8080/"
        },
        "id": "3ibd_CgkeL1R",
        "outputId": "56a7b913-cd75-4ebe-c8e6-f51a13a3b6a4"
      },
      "source": [
        "df_18.columns"
      ],
      "execution_count": 122,
      "outputs": [
        {
          "output_type": "execute_result",
          "data": {
            "text/plain": [
              "Index(['model', 'displ', 'cyl', 'trans', 'drive', 'fuel', 'cert_region',\n",
              "       'veh_class', 'air_pollution_score', 'city_mpg', 'hwy_mpg', 'cmb_mpg',\n",
              "       'greenhouse_gas_score', 'smartway'],\n",
              "      dtype='object')"
            ]
          },
          "metadata": {
            "tags": []
          },
          "execution_count": 122
        }
      ]
    },
    {
      "cell_type": "markdown",
      "metadata": {
        "id": "RWac3HvRdZu1"
      },
      "source": [
        "### 3- Issue: missing values"
      ]
    },
    {
      "cell_type": "markdown",
      "metadata": {
        "id": "UrYh4Vx3eMmp"
      },
      "source": [
        "### Code"
      ]
    },
    {
      "cell_type": "code",
      "metadata": {
        "id": "7MREExl-eMmr"
      },
      "source": [
        "df_18.dropna(inplace=True)"
      ],
      "execution_count": 123,
      "outputs": []
    },
    {
      "cell_type": "markdown",
      "metadata": {
        "id": "iRmMkktleMms"
      },
      "source": [
        "### Test"
      ]
    },
    {
      "cell_type": "code",
      "metadata": {
        "colab": {
          "base_uri": "https://localhost:8080/"
        },
        "id": "roYmT5IceMmt",
        "outputId": "749a118d-7c5c-44a0-e381-894205bfab16"
      },
      "source": [
        "df_18.isnull().sum()"
      ],
      "execution_count": 124,
      "outputs": [
        {
          "output_type": "execute_result",
          "data": {
            "text/plain": [
              "model                   0\n",
              "displ                   0\n",
              "cyl                     0\n",
              "trans                   0\n",
              "drive                   0\n",
              "fuel                    0\n",
              "cert_region             0\n",
              "veh_class               0\n",
              "air_pollution_score     0\n",
              "city_mpg                0\n",
              "hwy_mpg                 0\n",
              "cmb_mpg                 0\n",
              "greenhouse_gas_score    0\n",
              "smartway                0\n",
              "dtype: int64"
            ]
          },
          "metadata": {
            "tags": []
          },
          "execution_count": 124
        }
      ]
    },
    {
      "cell_type": "markdown",
      "metadata": {
        "id": "ZFb6hE_NdZ72"
      },
      "source": [
        "### 4- Issue: Data Types"
      ]
    },
    {
      "cell_type": "markdown",
      "metadata": {
        "id": "Uet8WcUEc0uZ"
      },
      "source": [
        "- cyl column : convert into int"
      ]
    },
    {
      "cell_type": "code",
      "metadata": {
        "colab": {
          "base_uri": "https://localhost:8080/"
        },
        "id": "r5GV3vdTc5cS",
        "outputId": "99edd03f-10d4-49f8-83b8-3b19f13cc023"
      },
      "source": [
        "df_18.cyl.value_counts()"
      ],
      "execution_count": 125,
      "outputs": [
        {
          "output_type": "execute_result",
          "data": {
            "text/plain": [
              "4.0     736\n",
              "6.0     504\n",
              "8.0     309\n",
              "3.0      36\n",
              "12.0     18\n",
              "5.0       4\n",
              "16.0      2\n",
              "Name: cyl, dtype: int64"
            ]
          },
          "metadata": {
            "tags": []
          },
          "execution_count": 125
        }
      ]
    },
    {
      "cell_type": "code",
      "metadata": {
        "id": "KmKyErWPc8np"
      },
      "source": [
        "df_18.cyl = df_18.cyl.astype('int')"
      ],
      "execution_count": 126,
      "outputs": []
    },
    {
      "cell_type": "code",
      "metadata": {
        "colab": {
          "base_uri": "https://localhost:8080/"
        },
        "id": "z9YISCZNdDRJ",
        "outputId": "0e07e74e-0670-4b2e-cd1b-011ec56983fa"
      },
      "source": [
        "df_18.cyl.value_counts()"
      ],
      "execution_count": 127,
      "outputs": [
        {
          "output_type": "execute_result",
          "data": {
            "text/plain": [
              "4     736\n",
              "6     504\n",
              "8     309\n",
              "3      36\n",
              "12     18\n",
              "5       4\n",
              "16      2\n",
              "Name: cyl, dtype: int64"
            ]
          },
          "metadata": {
            "tags": []
          },
          "execution_count": 127
        }
      ]
    },
    {
      "cell_type": "code",
      "metadata": {
        "colab": {
          "base_uri": "https://localhost:8080/",
          "height": 301
        },
        "id": "eHrj_ErW57Jn",
        "outputId": "f9ee8701-f99e-4f5c-e19d-2218b3750e3a"
      },
      "source": [
        "df_18.head()"
      ],
      "execution_count": 128,
      "outputs": [
        {
          "output_type": "execute_result",
          "data": {
            "text/html": [
              "<div>\n",
              "<style scoped>\n",
              "    .dataframe tbody tr th:only-of-type {\n",
              "        vertical-align: middle;\n",
              "    }\n",
              "\n",
              "    .dataframe tbody tr th {\n",
              "        vertical-align: top;\n",
              "    }\n",
              "\n",
              "    .dataframe thead th {\n",
              "        text-align: right;\n",
              "    }\n",
              "</style>\n",
              "<table border=\"1\" class=\"dataframe\">\n",
              "  <thead>\n",
              "    <tr style=\"text-align: right;\">\n",
              "      <th></th>\n",
              "      <th>model</th>\n",
              "      <th>displ</th>\n",
              "      <th>cyl</th>\n",
              "      <th>trans</th>\n",
              "      <th>drive</th>\n",
              "      <th>fuel</th>\n",
              "      <th>cert_region</th>\n",
              "      <th>veh_class</th>\n",
              "      <th>air_pollution_score</th>\n",
              "      <th>city_mpg</th>\n",
              "      <th>hwy_mpg</th>\n",
              "      <th>cmb_mpg</th>\n",
              "      <th>greenhouse_gas_score</th>\n",
              "      <th>smartway</th>\n",
              "    </tr>\n",
              "  </thead>\n",
              "  <tbody>\n",
              "    <tr>\n",
              "      <th>0</th>\n",
              "      <td>ACURA RDX</td>\n",
              "      <td>3.5</td>\n",
              "      <td>6</td>\n",
              "      <td>SemiAuto-6</td>\n",
              "      <td>2WD</td>\n",
              "      <td>Gasoline</td>\n",
              "      <td>FA</td>\n",
              "      <td>small SUV</td>\n",
              "      <td>3</td>\n",
              "      <td>20</td>\n",
              "      <td>28</td>\n",
              "      <td>23</td>\n",
              "      <td>5</td>\n",
              "      <td>No</td>\n",
              "    </tr>\n",
              "    <tr>\n",
              "      <th>1</th>\n",
              "      <td>ACURA RDX</td>\n",
              "      <td>3.5</td>\n",
              "      <td>6</td>\n",
              "      <td>SemiAuto-6</td>\n",
              "      <td>2WD</td>\n",
              "      <td>Gasoline</td>\n",
              "      <td>CA</td>\n",
              "      <td>small SUV</td>\n",
              "      <td>3</td>\n",
              "      <td>20</td>\n",
              "      <td>28</td>\n",
              "      <td>23</td>\n",
              "      <td>5</td>\n",
              "      <td>No</td>\n",
              "    </tr>\n",
              "    <tr>\n",
              "      <th>2</th>\n",
              "      <td>ACURA RDX</td>\n",
              "      <td>3.5</td>\n",
              "      <td>6</td>\n",
              "      <td>SemiAuto-6</td>\n",
              "      <td>4WD</td>\n",
              "      <td>Gasoline</td>\n",
              "      <td>FA</td>\n",
              "      <td>small SUV</td>\n",
              "      <td>3</td>\n",
              "      <td>19</td>\n",
              "      <td>27</td>\n",
              "      <td>22</td>\n",
              "      <td>4</td>\n",
              "      <td>No</td>\n",
              "    </tr>\n",
              "    <tr>\n",
              "      <th>3</th>\n",
              "      <td>ACURA RDX</td>\n",
              "      <td>3.5</td>\n",
              "      <td>6</td>\n",
              "      <td>SemiAuto-6</td>\n",
              "      <td>4WD</td>\n",
              "      <td>Gasoline</td>\n",
              "      <td>CA</td>\n",
              "      <td>small SUV</td>\n",
              "      <td>3</td>\n",
              "      <td>19</td>\n",
              "      <td>27</td>\n",
              "      <td>22</td>\n",
              "      <td>4</td>\n",
              "      <td>No</td>\n",
              "    </tr>\n",
              "    <tr>\n",
              "      <th>4</th>\n",
              "      <td>ACURA TLX</td>\n",
              "      <td>2.4</td>\n",
              "      <td>4</td>\n",
              "      <td>AMS-8</td>\n",
              "      <td>2WD</td>\n",
              "      <td>Gasoline</td>\n",
              "      <td>CA</td>\n",
              "      <td>small car</td>\n",
              "      <td>3</td>\n",
              "      <td>23</td>\n",
              "      <td>33</td>\n",
              "      <td>27</td>\n",
              "      <td>6</td>\n",
              "      <td>No</td>\n",
              "    </tr>\n",
              "  </tbody>\n",
              "</table>\n",
              "</div>"
            ],
            "text/plain": [
              "       model  displ  cyl  ... cmb_mpg greenhouse_gas_score smartway\n",
              "0  ACURA RDX    3.5    6  ...      23                    5       No\n",
              "1  ACURA RDX    3.5    6  ...      23                    5       No\n",
              "2  ACURA RDX    3.5    6  ...      22                    4       No\n",
              "3  ACURA RDX    3.5    6  ...      22                    4       No\n",
              "4  ACURA TLX    2.4    4  ...      27                    6       No\n",
              "\n",
              "[5 rows x 14 columns]"
            ]
          },
          "metadata": {
            "tags": []
          },
          "execution_count": 128
        }
      ]
    },
    {
      "cell_type": "code",
      "metadata": {
        "colab": {
          "base_uri": "https://localhost:8080/"
        },
        "id": "gv215q8J57Mo",
        "outputId": "065f94fd-1c5c-4162-b093-d5aafe1b3823"
      },
      "source": [
        "df_18.dtypes"
      ],
      "execution_count": 129,
      "outputs": [
        {
          "output_type": "execute_result",
          "data": {
            "text/plain": [
              "model                    object\n",
              "displ                   float64\n",
              "cyl                       int64\n",
              "trans                    object\n",
              "drive                    object\n",
              "fuel                     object\n",
              "cert_region              object\n",
              "veh_class                object\n",
              "air_pollution_score       int64\n",
              "city_mpg                 object\n",
              "hwy_mpg                  object\n",
              "cmb_mpg                  object\n",
              "greenhouse_gas_score      int64\n",
              "smartway                 object\n",
              "dtype: object"
            ]
          },
          "metadata": {
            "tags": []
          },
          "execution_count": 129
        }
      ]
    },
    {
      "cell_type": "markdown",
      "metadata": {
        "id": "nRQCIfNQ50Sj"
      },
      "source": [
        "- the same '/' problem in the 2008 dataset but in [fuel , city_mpg,\thwy_mpg,\tcmb_mpg] columns only"
      ]
    },
    {
      "cell_type": "code",
      "metadata": {
        "id": "LSh7ZI8yeNKg",
        "colab": {
          "base_uri": "https://localhost:8080/",
          "height": 301
        },
        "outputId": "ab652095-042a-4d57-a53c-93f603582b1b"
      },
      "source": [
        "test_18 = df_18[df_18.fuel.str.contains('/')]\n",
        "test_18.head()"
      ],
      "execution_count": 130,
      "outputs": [
        {
          "output_type": "execute_result",
          "data": {
            "text/html": [
              "<div>\n",
              "<style scoped>\n",
              "    .dataframe tbody tr th:only-of-type {\n",
              "        vertical-align: middle;\n",
              "    }\n",
              "\n",
              "    .dataframe tbody tr th {\n",
              "        vertical-align: top;\n",
              "    }\n",
              "\n",
              "    .dataframe thead th {\n",
              "        text-align: right;\n",
              "    }\n",
              "</style>\n",
              "<table border=\"1\" class=\"dataframe\">\n",
              "  <thead>\n",
              "    <tr style=\"text-align: right;\">\n",
              "      <th></th>\n",
              "      <th>model</th>\n",
              "      <th>displ</th>\n",
              "      <th>cyl</th>\n",
              "      <th>trans</th>\n",
              "      <th>drive</th>\n",
              "      <th>fuel</th>\n",
              "      <th>cert_region</th>\n",
              "      <th>veh_class</th>\n",
              "      <th>air_pollution_score</th>\n",
              "      <th>city_mpg</th>\n",
              "      <th>hwy_mpg</th>\n",
              "      <th>cmb_mpg</th>\n",
              "      <th>greenhouse_gas_score</th>\n",
              "      <th>smartway</th>\n",
              "    </tr>\n",
              "  </thead>\n",
              "  <tbody>\n",
              "    <tr>\n",
              "      <th>108</th>\n",
              "      <td>BMW 330e</td>\n",
              "      <td>2.0</td>\n",
              "      <td>4</td>\n",
              "      <td>SemiAuto-8</td>\n",
              "      <td>2WD</td>\n",
              "      <td>Gasoline/Electricity</td>\n",
              "      <td>CA</td>\n",
              "      <td>small car</td>\n",
              "      <td>3</td>\n",
              "      <td>28/66</td>\n",
              "      <td>34/78</td>\n",
              "      <td>30/71</td>\n",
              "      <td>10</td>\n",
              "      <td>Yes</td>\n",
              "    </tr>\n",
              "    <tr>\n",
              "      <th>109</th>\n",
              "      <td>BMW 330e</td>\n",
              "      <td>2.0</td>\n",
              "      <td>4</td>\n",
              "      <td>SemiAuto-8</td>\n",
              "      <td>2WD</td>\n",
              "      <td>Gasoline/Electricity</td>\n",
              "      <td>FA</td>\n",
              "      <td>small car</td>\n",
              "      <td>3</td>\n",
              "      <td>28/66</td>\n",
              "      <td>34/78</td>\n",
              "      <td>30/71</td>\n",
              "      <td>10</td>\n",
              "      <td>Yes</td>\n",
              "    </tr>\n",
              "    <tr>\n",
              "      <th>160</th>\n",
              "      <td>BMW 530e</td>\n",
              "      <td>2.0</td>\n",
              "      <td>4</td>\n",
              "      <td>SemiAuto-8</td>\n",
              "      <td>2WD</td>\n",
              "      <td>Gasoline/Electricity</td>\n",
              "      <td>CA</td>\n",
              "      <td>small car</td>\n",
              "      <td>7</td>\n",
              "      <td>27/70</td>\n",
              "      <td>31/75</td>\n",
              "      <td>29/72</td>\n",
              "      <td>10</td>\n",
              "      <td>Elite</td>\n",
              "    </tr>\n",
              "    <tr>\n",
              "      <th>161</th>\n",
              "      <td>BMW 530e</td>\n",
              "      <td>2.0</td>\n",
              "      <td>4</td>\n",
              "      <td>SemiAuto-8</td>\n",
              "      <td>2WD</td>\n",
              "      <td>Gasoline/Electricity</td>\n",
              "      <td>FA</td>\n",
              "      <td>small car</td>\n",
              "      <td>7</td>\n",
              "      <td>27/70</td>\n",
              "      <td>31/75</td>\n",
              "      <td>29/72</td>\n",
              "      <td>10</td>\n",
              "      <td>Elite</td>\n",
              "    </tr>\n",
              "    <tr>\n",
              "      <th>162</th>\n",
              "      <td>BMW 530e</td>\n",
              "      <td>2.0</td>\n",
              "      <td>4</td>\n",
              "      <td>SemiAuto-8</td>\n",
              "      <td>4WD</td>\n",
              "      <td>Gasoline/Electricity</td>\n",
              "      <td>CA</td>\n",
              "      <td>small car</td>\n",
              "      <td>7</td>\n",
              "      <td>27/66</td>\n",
              "      <td>31/68</td>\n",
              "      <td>28/67</td>\n",
              "      <td>10</td>\n",
              "      <td>Elite</td>\n",
              "    </tr>\n",
              "  </tbody>\n",
              "</table>\n",
              "</div>"
            ],
            "text/plain": [
              "        model  displ  cyl  ... cmb_mpg greenhouse_gas_score smartway\n",
              "108  BMW 330e    2.0    4  ...   30/71                   10      Yes\n",
              "109  BMW 330e    2.0    4  ...   30/71                   10      Yes\n",
              "160  BMW 530e    2.0    4  ...   29/72                   10    Elite\n",
              "161  BMW 530e    2.0    4  ...   29/72                   10    Elite\n",
              "162  BMW 530e    2.0    4  ...   28/67                   10    Elite\n",
              "\n",
              "[5 rows x 14 columns]"
            ]
          },
          "metadata": {
            "tags": []
          },
          "execution_count": 130
        }
      ]
    },
    {
      "cell_type": "code",
      "metadata": {
        "id": "7ISmRL7mfMIF"
      },
      "source": [
        "t1_18 = test_18.copy()\n",
        "t2_18 = test_18.copy()"
      ],
      "execution_count": 131,
      "outputs": []
    },
    {
      "cell_type": "code",
      "metadata": {
        "id": "errGFhkQ7jpu"
      },
      "source": [
        "split_columns_18 = ['fuel' , 'city_mpg', 'hwy_mpg', 'cmb_mpg']\n",
        "for c in split_columns_18:\n",
        "  t1_18[c] =  t1_18[c].apply(lambda x : x.split('/')[0])\n",
        "  t2_18[c] =  t2_18[c].apply(lambda x : x.split('/')[1])"
      ],
      "execution_count": 132,
      "outputs": []
    },
    {
      "cell_type": "code",
      "metadata": {
        "id": "n5akkf478_nq"
      },
      "source": [
        "new_test_18 = t1_18.append(t2_18)"
      ],
      "execution_count": 133,
      "outputs": []
    },
    {
      "cell_type": "code",
      "metadata": {
        "id": "-gvxLaJ39Mn3"
      },
      "source": [
        "df_18.drop(new_test_18.index,inplace = True)"
      ],
      "execution_count": 134,
      "outputs": []
    },
    {
      "cell_type": "code",
      "metadata": {
        "id": "bSe78Lm-9q7D"
      },
      "source": [
        "df_18 = df_18.append(new_test_18)"
      ],
      "execution_count": 135,
      "outputs": []
    },
    {
      "cell_type": "code",
      "metadata": {
        "colab": {
          "base_uri": "https://localhost:8080/"
        },
        "id": "vY_lqZWB9xWg",
        "outputId": "eaa15c41-91e3-4795-9d2c-58af78c8708c"
      },
      "source": [
        "df_18.shape"
      ],
      "execution_count": 136,
      "outputs": [
        {
          "output_type": "execute_result",
          "data": {
            "text/plain": [
              "(1688, 14)"
            ]
          },
          "metadata": {
            "tags": []
          },
          "execution_count": 136
        }
      ]
    },
    {
      "cell_type": "code",
      "metadata": {
        "id": "aNzHXiKR9znW"
      },
      "source": [
        "cols =  ['air_pollution_score','city_mpg', 'hwy_mpg', 'cmb_mpg']\n",
        "for col in cols : \n",
        "  df_18[col] = df_18[col].astype('float')"
      ],
      "execution_count": 137,
      "outputs": []
    },
    {
      "cell_type": "code",
      "metadata": {
        "colab": {
          "base_uri": "https://localhost:8080/"
        },
        "id": "HOy2n385OYOo",
        "outputId": "a204976c-414d-4ac8-cb60-b4cae79c83c3"
      },
      "source": [
        "df_18.dtypes"
      ],
      "execution_count": 138,
      "outputs": [
        {
          "output_type": "execute_result",
          "data": {
            "text/plain": [
              "model                    object\n",
              "displ                   float64\n",
              "cyl                       int64\n",
              "trans                    object\n",
              "drive                    object\n",
              "fuel                     object\n",
              "cert_region              object\n",
              "veh_class                object\n",
              "air_pollution_score     float64\n",
              "city_mpg                float64\n",
              "hwy_mpg                 float64\n",
              "cmb_mpg                 float64\n",
              "greenhouse_gas_score      int64\n",
              "smartway                 object\n",
              "dtype: object"
            ]
          },
          "metadata": {
            "tags": []
          },
          "execution_count": 138
        }
      ]
    },
    {
      "cell_type": "code",
      "metadata": {
        "colab": {
          "base_uri": "https://localhost:8080/"
        },
        "id": "uKAmUcjKObzg",
        "outputId": "fd549676-8b31-4673-b177-23d60dad6788"
      },
      "source": [
        "df_08.dtypes == df_18.dtypes"
      ],
      "execution_count": 139,
      "outputs": [
        {
          "output_type": "execute_result",
          "data": {
            "text/plain": [
              "model                   True\n",
              "displ                   True\n",
              "cyl                     True\n",
              "trans                   True\n",
              "drive                   True\n",
              "fuel                    True\n",
              "cert_region             True\n",
              "veh_class               True\n",
              "air_pollution_score     True\n",
              "city_mpg                True\n",
              "hwy_mpg                 True\n",
              "cmb_mpg                 True\n",
              "greenhouse_gas_score    True\n",
              "smartway                True\n",
              "dtype: bool"
            ]
          },
          "metadata": {
            "tags": []
          },
          "execution_count": 139
        }
      ]
    },
    {
      "cell_type": "markdown",
      "metadata": {
        "id": "OSHVMsNFmIZy"
      },
      "source": [
        "# Exploration"
      ]
    },
    {
      "cell_type": "code",
      "metadata": {
        "colab": {
          "base_uri": "https://localhost:8080/",
          "height": 606
        },
        "id": "JK5kOUojPlO8",
        "outputId": "f1cd47bf-bfb2-46a4-d658-1aae4ef837c1"
      },
      "source": [
        "df_08.hist(figsize=(10,10));"
      ],
      "execution_count": 140,
      "outputs": [
        {
          "output_type": "display_data",
          "data": {
            "image/png": "[encoded data removed]",
            "text/plain": [
              "<Figure size 720x720 with 9 Axes>"
            ]
          },
          "metadata": {
            "tags": [],
            "needs_background": "light"
          }
        }
      ]
    },
    {
      "cell_type": "code",
      "metadata": {
        "colab": {
          "base_uri": "https://localhost:8080/",
          "height": 606
        },
        "id": "iCs5vNwNmRnr",
        "outputId": "99e37448-3e58-4b30-c99d-7b1c458bcf32"
      },
      "source": [
        "df_18.hist(figsize=(10,10));"
      ],
      "execution_count": 141,
      "outputs": [
        {
          "output_type": "display_data",
          "data": {
            "image/png": "[encoded data removed]",
            "text/plain": [
              "<Figure size 720x720 with 9 Axes>"
            ]
          },
          "metadata": {
            "tags": [],
            "needs_background": "light"
          }
        }
      ]
    },
    {
      "cell_type": "code",
      "metadata": {
        "colab": {
          "base_uri": "https://localhost:8080/",
          "height": 391
        },
        "id": "AHUDwNvHmbIg",
        "outputId": "dbc6da71-b9f1-428d-f42b-b564f3c7f168"
      },
      "source": [
        "sns.heatmap(df_08.corr(),annot = True)"
      ],
      "execution_count": 142,
      "outputs": [
        {
          "output_type": "execute_result",
          "data": {
            "text/plain": [
              "<matplotlib.axes._subplots.AxesSubplot at 0x7f7e6fde6f10>"
            ]
          },
          "metadata": {
            "tags": []
          },
          "execution_count": 142
        },
        {
          "output_type": "display_data",
          "data": {
            "image/png": "[encoded data removed]",
            "text/plain": [
              "<Figure size 432x288 with 2 Axes>"
            ]
          },
          "metadata": {
            "tags": [],
            "needs_background": "light"
          }
        }
      ]
    },
    {
      "cell_type": "code",
      "metadata": {
        "colab": {
          "base_uri": "https://localhost:8080/",
          "height": 391
        },
        "id": "uDH4yiYumvtL",
        "outputId": "5689b628-439d-4c7d-ab2e-aeb73d732e20"
      },
      "source": [
        "sns.heatmap(df_18.corr(),annot = True)"
      ],
      "execution_count": 143,
      "outputs": [
        {
          "output_type": "execute_result",
          "data": {
            "text/plain": [
              "<matplotlib.axes._subplots.AxesSubplot at 0x7f7e6fce26d0>"
            ]
          },
          "metadata": {
            "tags": []
          },
          "execution_count": 143
        },
        {
          "output_type": "display_data",
          "data": {
            "image/png": "[encoded data removed]",
            "text/plain": [
              "<Figure size 432x288 with 2 Axes>"
            ]
          },
          "metadata": {
            "tags": [],
            "needs_background": "light"
          }
        }
      ]
    },
    {
      "cell_type": "markdown",
      "metadata": {
        "id": "lSAgjO6mnPrJ"
      },
      "source": [
        "# Conclusions"
      ]
    },
    {
      "cell_type": "markdown",
      "metadata": {
        "id": "t5baF5ZbSrXH"
      },
      "source": [
        "## Are more unique models using alternative sources of fuel? By how much?"
      ]
    },
    {
      "cell_type": "code",
      "metadata": {
        "colab": {
          "base_uri": "https://localhost:8080/"
        },
        "id": "Spzifdafm7Di",
        "outputId": "54af2fc0-5335-4951-e624-b45449e15d6d"
      },
      "source": [
        "df_08.fuel.value_counts()"
      ],
      "execution_count": 144,
      "outputs": [
        {
          "output_type": "execute_result",
          "data": {
            "text/plain": [
              "Gasoline    2067\n",
              "ethanol       66\n",
              "gas           65\n",
              "diesel         7\n",
              "CNG            2\n",
              "Name: fuel, dtype: int64"
            ]
          },
          "metadata": {
            "tags": []
          },
          "execution_count": 144
        }
      ]
    },
    {
      "cell_type": "code",
      "metadata": {
        "colab": {
          "base_uri": "https://localhost:8080/"
        },
        "id": "M7vfReshTy5t",
        "outputId": "c969f202-1f33-4446-c376-806b35026cd8"
      },
      "source": [
        "df_08.query('fuel != \"Gasoline\"').model.nunique()"
      ],
      "execution_count": 145,
      "outputs": [
        {
          "output_type": "execute_result",
          "data": {
            "text/plain": [
              "38"
            ]
          },
          "metadata": {
            "tags": []
          },
          "execution_count": 145
        }
      ]
    },
    {
      "cell_type": "code",
      "metadata": {
        "colab": {
          "base_uri": "https://localhost:8080/"
        },
        "id": "j7qyjKcnS0HL",
        "outputId": "c0c80f46-5045-4fda-8bb1-38057bfc6a28"
      },
      "source": [
        "df_18.fuel.value_counts()"
      ],
      "execution_count": 146,
      "outputs": [
        {
          "output_type": "execute_result",
          "data": {
            "text/plain": [
              "Gasoline       1516\n",
              "Gas              55\n",
              "Ethanol          55\n",
              "Diesel           38\n",
              "Electricity      24\n",
              "Name: fuel, dtype: int64"
            ]
          },
          "metadata": {
            "tags": []
          },
          "execution_count": 146
        }
      ]
    },
    {
      "cell_type": "code",
      "metadata": {
        "colab": {
          "base_uri": "https://localhost:8080/"
        },
        "id": "KGEvXSysUBuk",
        "outputId": "98622ba7-e1ca-4300-c904-72a51cb69896"
      },
      "source": [
        "df_18.query('fuel != \"Gasoline\"').model.nunique()"
      ],
      "execution_count": 147,
      "outputs": [
        {
          "output_type": "execute_result",
          "data": {
            "text/plain": [
              "39"
            ]
          },
          "metadata": {
            "tags": []
          },
          "execution_count": 147
        }
      ]
    },
    {
      "cell_type": "markdown",
      "metadata": {
        "id": "Wu9ceFy0W5zX"
      },
      "source": [
        "## How much have vehicle classes improved in fuel economy (increased in mpg)?"
      ]
    },
    {
      "cell_type": "code",
      "metadata": {
        "colab": {
          "base_uri": "https://localhost:8080/"
        },
        "id": "QxBBtD7AXWCT",
        "outputId": "66958493-9dc6-48b5-89c3-f99e54253a90"
      },
      "source": [
        "df_08.columns"
      ],
      "execution_count": 148,
      "outputs": [
        {
          "output_type": "execute_result",
          "data": {
            "text/plain": [
              "Index(['model', 'displ', 'cyl', 'trans', 'drive', 'fuel', 'cert_region',\n",
              "       'veh_class', 'air_pollution_score', 'city_mpg', 'hwy_mpg', 'cmb_mpg',\n",
              "       'greenhouse_gas_score', 'smartway'],\n",
              "      dtype='object')"
            ]
          },
          "metadata": {
            "tags": []
          },
          "execution_count": 148
        }
      ]
    },
    {
      "cell_type": "code",
      "metadata": {
        "colab": {
          "base_uri": "https://localhost:8080/"
        },
        "id": "6PEtsdZIWB3c",
        "outputId": "e205002c-2cb7-4945-e5e6-4ff4d037293a"
      },
      "source": [
        "df_08.groupby('veh_class')['cmb_mpg'].mean()"
      ],
      "execution_count": 149,
      "outputs": [
        {
          "output_type": "execute_result",
          "data": {
            "text/plain": [
              "veh_class\n",
              "SUV              17.920807\n",
              "large car        18.323308\n",
              "midsize car      21.395604\n",
              "minivan          18.666667\n",
              "pickup           16.060837\n",
              "small car        21.054896\n",
              "station wagon    22.349593\n",
              "van              14.206897\n",
              "Name: cmb_mpg, dtype: float64"
            ]
          },
          "metadata": {
            "tags": []
          },
          "execution_count": 149
        }
      ]
    },
    {
      "cell_type": "code",
      "metadata": {
        "colab": {
          "base_uri": "https://localhost:8080/"
        },
        "id": "mpazsjUxXeBh",
        "outputId": "e96100ed-a453-4488-ad20-327f8d025cd2"
      },
      "source": [
        "df_18.groupby('veh_class')['cmb_mpg'].mean()"
      ],
      "execution_count": 150,
      "outputs": [
        {
          "output_type": "execute_result",
          "data": {
            "text/plain": [
              "veh_class\n",
              "large car          23.372881\n",
              "midsize car        27.821429\n",
              "minivan            20.800000\n",
              "pickup             18.589744\n",
              "small SUV          23.968326\n",
              "small car          25.388889\n",
              "special purpose    18.666667\n",
              "standard SUV       18.160920\n",
              "station wagon      27.485714\n",
              "Name: cmb_mpg, dtype: float64"
            ]
          },
          "metadata": {
            "tags": []
          },
          "execution_count": 150
        }
      ]
    },
    {
      "cell_type": "code",
      "metadata": {
        "colab": {
          "base_uri": "https://localhost:8080/"
        },
        "id": "VSNvActAXh50",
        "outputId": "8c86be46-2555-4705-b66f-849ef2bb1126"
      },
      "source": [
        "increase = df_18.groupby('veh_class')['cmb_mpg'].mean() - df_08.groupby('veh_class')['cmb_mpg'].mean()\n",
        "increase"
      ],
      "execution_count": 151,
      "outputs": [
        {
          "output_type": "execute_result",
          "data": {
            "text/plain": [
              "veh_class\n",
              "SUV                     NaN\n",
              "large car          5.049573\n",
              "midsize car        6.425824\n",
              "minivan            2.133333\n",
              "pickup             2.528907\n",
              "small SUV               NaN\n",
              "small car          4.333993\n",
              "special purpose         NaN\n",
              "standard SUV            NaN\n",
              "station wagon      5.136121\n",
              "van                     NaN\n",
              "Name: cmb_mpg, dtype: float64"
            ]
          },
          "metadata": {
            "tags": []
          },
          "execution_count": 151
        }
      ]
    },
    {
      "cell_type": "code",
      "metadata": {
        "id": "QA7gwlzNXnfg"
      },
      "source": [
        "increase.dropna(inplace=True)"
      ],
      "execution_count": 152,
      "outputs": []
    },
    {
      "cell_type": "code",
      "metadata": {
        "colab": {
          "base_uri": "https://localhost:8080/",
          "height": 294
        },
        "id": "tTiNZubQXzvH",
        "outputId": "7f6c920c-9aed-434c-f628-d51fae0df793"
      },
      "source": [
        "plt.bar(increase.index, increase)\n",
        "plt.title('Improvements in Fuel Economy from 2008 to 2018 by Vehicle Class')\n",
        "plt.xlabel('Vehicle Class')\n",
        "plt.ylabel('Increase in Average Combined MPG');"
      ],
      "execution_count": 153,
      "outputs": [
        {
          "output_type": "display_data",
          "data": {
            "image/png": "[encoded data removed]",
            "text/plain": [
              "<Figure size 432x288 with 1 Axes>"
            ]
          },
          "metadata": {
            "tags": [],
            "needs_background": "light"
          }
        }
      ]
    },
    {
      "cell_type": "markdown",
      "metadata": {
        "id": "TuARy4u3YDQe"
      },
      "source": [
        "## What are the characteristics of SmartWay vehicles? Have they changed over time?"
      ]
    },
    {
      "cell_type": "code",
      "metadata": {
        "colab": {
          "base_uri": "https://localhost:8080/"
        },
        "id": "hNmizmyOX4Jx",
        "outputId": "f80e516c-2596-41ea-af7f-bba72b124d4e"
      },
      "source": [
        "df_08.smartway.unique()"
      ],
      "execution_count": 154,
      "outputs": [
        {
          "output_type": "execute_result",
          "data": {
            "text/plain": [
              "array(['no', 'yes'], dtype=object)"
            ]
          },
          "metadata": {
            "tags": []
          },
          "execution_count": 154
        }
      ]
    },
    {
      "cell_type": "code",
      "metadata": {
        "colab": {
          "base_uri": "https://localhost:8080/"
        },
        "id": "S7YarWw1YRT9",
        "outputId": "4c7c57f2-b695-4212-8984-475e17bc012c"
      },
      "source": [
        "df_08.query('smartway == \"yes\"').mean()"
      ],
      "execution_count": 155,
      "outputs": [
        {
          "output_type": "execute_result",
          "data": {
            "text/plain": [
              "displ                    2.49232\n",
              "cyl                      4.66400\n",
              "air_pollution_score      6.99680\n",
              "city_mpg                21.45760\n",
              "hwy_mpg                 28.88000\n",
              "cmb_mpg                 24.20160\n",
              "greenhouse_gas_score     7.02720\n",
              "dtype: float64"
            ]
          },
          "metadata": {
            "tags": []
          },
          "execution_count": 155
        }
      ]
    },
    {
      "cell_type": "code",
      "metadata": {
        "colab": {
          "base_uri": "https://localhost:8080/"
        },
        "id": "-vldp37QYphK",
        "outputId": "1f4a4b1c-ec8d-4866-cb5d-aa363b01b92c"
      },
      "source": [
        "df_18.smartway.unique()"
      ],
      "execution_count": 156,
      "outputs": [
        {
          "output_type": "execute_result",
          "data": {
            "text/plain": [
              "array(['No', 'Yes', 'Elite'], dtype=object)"
            ]
          },
          "metadata": {
            "tags": []
          },
          "execution_count": 156
        }
      ]
    },
    {
      "cell_type": "code",
      "metadata": {
        "colab": {
          "base_uri": "https://localhost:8080/"
        },
        "id": "vfvWY26YYaS6",
        "outputId": "91b25217-7845-45a0-e8a0-69f6126b75c9"
      },
      "source": [
        "df_18.query('smartway in [\"yes\",\"Elite\"]').mean()"
      ],
      "execution_count": 157,
      "outputs": [
        {
          "output_type": "execute_result",
          "data": {
            "text/plain": [
              "displ                    1.970588\n",
              "cyl                      4.000000\n",
              "air_pollution_score      7.000000\n",
              "city_mpg                53.235294\n",
              "hwy_mpg                 53.117647\n",
              "cmb_mpg                 53.000000\n",
              "greenhouse_gas_score    10.000000\n",
              "dtype: float64"
            ]
          },
          "metadata": {
            "tags": []
          },
          "execution_count": 157
        }
      ]
    },
    {
      "cell_type": "code",
      "metadata": {
        "colab": {
          "base_uri": "https://localhost:8080/"
        },
        "id": "gFQbqKpDYmse",
        "outputId": "98f4f6ce-64dd-4586-bd1a-ae9837e6978e"
      },
      "source": [
        "df_18.query('smartway in [\"yes\",\"Elite\"]').mean() - df_08.query('smartway == \"yes\"').mean()"
      ],
      "execution_count": 158,
      "outputs": [
        {
          "output_type": "execute_result",
          "data": {
            "text/plain": [
              "displ                   -0.521732\n",
              "cyl                     -0.664000\n",
              "air_pollution_score      0.003200\n",
              "city_mpg                31.777694\n",
              "hwy_mpg                 24.237647\n",
              "cmb_mpg                 28.798400\n",
              "greenhouse_gas_score     2.972800\n",
              "dtype: float64"
            ]
          },
          "metadata": {
            "tags": []
          },
          "execution_count": 158
        }
      ]
    },
    {
      "cell_type": "markdown",
      "metadata": {
        "id": "YOGo4dmrZfR1"
      },
      "source": [
        "## What features are associated with better fuel economy?"
      ]
    },
    {
      "cell_type": "code",
      "metadata": {
        "colab": {
          "base_uri": "https://localhost:8080/",
          "height": 287
        },
        "id": "o3GjqzU3ZYnm",
        "outputId": "bcfad84b-0cb5-4537-d07c-8a801e0c6c57"
      },
      "source": [
        "df_08.query('cmb_mpg > cmb_mpg.mean()').describe()"
      ],
      "execution_count": 159,
      "outputs": [
        {
          "output_type": "execute_result",
          "data": {
            "text/html": [
              "<div>\n",
              "<style scoped>\n",
              "    .dataframe tbody tr th:only-of-type {\n",
              "        vertical-align: middle;\n",
              "    }\n",
              "\n",
              "    .dataframe tbody tr th {\n",
              "        vertical-align: top;\n",
              "    }\n",
              "\n",
              "    .dataframe thead th {\n",
              "        text-align: right;\n",
              "    }\n",
              "</style>\n",
              "<table border=\"1\" class=\"dataframe\">\n",
              "  <thead>\n",
              "    <tr style=\"text-align: right;\">\n",
              "      <th></th>\n",
              "      <th>displ</th>\n",
              "      <th>cyl</th>\n",
              "      <th>air_pollution_score</th>\n",
              "      <th>city_mpg</th>\n",
              "      <th>hwy_mpg</th>\n",
              "      <th>cmb_mpg</th>\n",
              "      <th>greenhouse_gas_score</th>\n",
              "    </tr>\n",
              "  </thead>\n",
              "  <tbody>\n",
              "    <tr>\n",
              "      <th>count</th>\n",
              "      <td>1048.000000</td>\n",
              "      <td>1048.000000</td>\n",
              "      <td>1048.000000</td>\n",
              "      <td>1048.000000</td>\n",
              "      <td>1048.000000</td>\n",
              "      <td>1048.000000</td>\n",
              "      <td>1048.000000</td>\n",
              "    </tr>\n",
              "    <tr>\n",
              "      <th>mean</th>\n",
              "      <td>2.663931</td>\n",
              "      <td>4.887405</td>\n",
              "      <td>6.557252</td>\n",
              "      <td>20.249046</td>\n",
              "      <td>27.547710</td>\n",
              "      <td>22.921756</td>\n",
              "      <td>6.615458</td>\n",
              "    </tr>\n",
              "    <tr>\n",
              "      <th>std</th>\n",
              "      <td>0.674432</td>\n",
              "      <td>1.034604</td>\n",
              "      <td>1.102253</td>\n",
              "      <td>3.172229</td>\n",
              "      <td>3.069027</td>\n",
              "      <td>2.919418</td>\n",
              "      <td>0.810644</td>\n",
              "    </tr>\n",
              "    <tr>\n",
              "      <th>min</th>\n",
              "      <td>1.300000</td>\n",
              "      <td>4.000000</td>\n",
              "      <td>1.000000</td>\n",
              "      <td>17.000000</td>\n",
              "      <td>20.000000</td>\n",
              "      <td>20.000000</td>\n",
              "      <td>4.000000</td>\n",
              "    </tr>\n",
              "    <tr>\n",
              "      <th>25%</th>\n",
              "      <td>2.300000</td>\n",
              "      <td>4.000000</td>\n",
              "      <td>6.000000</td>\n",
              "      <td>18.000000</td>\n",
              "      <td>25.000000</td>\n",
              "      <td>21.000000</td>\n",
              "      <td>6.000000</td>\n",
              "    </tr>\n",
              "    <tr>\n",
              "      <th>50%</th>\n",
              "      <td>2.500000</td>\n",
              "      <td>4.000000</td>\n",
              "      <td>6.000000</td>\n",
              "      <td>20.000000</td>\n",
              "      <td>27.000000</td>\n",
              "      <td>22.000000</td>\n",
              "      <td>6.000000</td>\n",
              "    </tr>\n",
              "    <tr>\n",
              "      <th>75%</th>\n",
              "      <td>3.000000</td>\n",
              "      <td>6.000000</td>\n",
              "      <td>7.000000</td>\n",
              "      <td>21.000000</td>\n",
              "      <td>29.000000</td>\n",
              "      <td>24.000000</td>\n",
              "      <td>7.000000</td>\n",
              "    </tr>\n",
              "    <tr>\n",
              "      <th>max</th>\n",
              "      <td>6.000000</td>\n",
              "      <td>8.000000</td>\n",
              "      <td>9.500000</td>\n",
              "      <td>48.000000</td>\n",
              "      <td>45.000000</td>\n",
              "      <td>46.000000</td>\n",
              "      <td>10.000000</td>\n",
              "    </tr>\n",
              "  </tbody>\n",
              "</table>\n",
              "</div>"
            ],
            "text/plain": [
              "             displ          cyl  ...      cmb_mpg  greenhouse_gas_score\n",
              "count  1048.000000  1048.000000  ...  1048.000000           1048.000000\n",
              "mean      2.663931     4.887405  ...    22.921756              6.615458\n",
              "std       0.674432     1.034604  ...     2.919418              0.810644\n",
              "min       1.300000     4.000000  ...    20.000000              4.000000\n",
              "25%       2.300000     4.000000  ...    21.000000              6.000000\n",
              "50%       2.500000     4.000000  ...    22.000000              6.000000\n",
              "75%       3.000000     6.000000  ...    24.000000              7.000000\n",
              "max       6.000000     8.000000  ...    46.000000             10.000000\n",
              "\n",
              "[8 rows x 7 columns]"
            ]
          },
          "metadata": {
            "tags": []
          },
          "execution_count": 159
        }
      ]
    },
    {
      "cell_type": "code",
      "metadata": {
        "colab": {
          "base_uri": "https://localhost:8080/",
          "height": 287
        },
        "id": "d1idYalIZsPD",
        "outputId": "1c5ac6ac-7bdd-403b-ca8d-fc86a8d5f5a1"
      },
      "source": [
        "df_18.query('cmb_mpg > cmb_mpg.mean()').describe()"
      ],
      "execution_count": 160,
      "outputs": [
        {
          "output_type": "execute_result",
          "data": {
            "text/html": [
              "<div>\n",
              "<style scoped>\n",
              "    .dataframe tbody tr th:only-of-type {\n",
              "        vertical-align: middle;\n",
              "    }\n",
              "\n",
              "    .dataframe tbody tr th {\n",
              "        vertical-align: top;\n",
              "    }\n",
              "\n",
              "    .dataframe thead th {\n",
              "        text-align: right;\n",
              "    }\n",
              "</style>\n",
              "<table border=\"1\" class=\"dataframe\">\n",
              "  <thead>\n",
              "    <tr style=\"text-align: right;\">\n",
              "      <th></th>\n",
              "      <th>displ</th>\n",
              "      <th>cyl</th>\n",
              "      <th>air_pollution_score</th>\n",
              "      <th>city_mpg</th>\n",
              "      <th>hwy_mpg</th>\n",
              "      <th>cmb_mpg</th>\n",
              "      <th>greenhouse_gas_score</th>\n",
              "    </tr>\n",
              "  </thead>\n",
              "  <tbody>\n",
              "    <tr>\n",
              "      <th>count</th>\n",
              "      <td>766.000000</td>\n",
              "      <td>766.000000</td>\n",
              "      <td>766.000000</td>\n",
              "      <td>766.000000</td>\n",
              "      <td>766.000000</td>\n",
              "      <td>766.000000</td>\n",
              "      <td>766.000000</td>\n",
              "    </tr>\n",
              "    <tr>\n",
              "      <th>mean</th>\n",
              "      <td>2.059399</td>\n",
              "      <td>4.164491</td>\n",
              "      <td>4.681462</td>\n",
              "      <td>26.595300</td>\n",
              "      <td>34.386423</td>\n",
              "      <td>29.506527</td>\n",
              "      <td>6.142298</td>\n",
              "    </tr>\n",
              "    <tr>\n",
              "      <th>std</th>\n",
              "      <td>0.483705</td>\n",
              "      <td>0.671818</td>\n",
              "      <td>1.864101</td>\n",
              "      <td>10.431259</td>\n",
              "      <td>8.657583</td>\n",
              "      <td>9.584401</td>\n",
              "      <td>1.384078</td>\n",
              "    </tr>\n",
              "    <tr>\n",
              "      <th>min</th>\n",
              "      <td>1.200000</td>\n",
              "      <td>3.000000</td>\n",
              "      <td>1.000000</td>\n",
              "      <td>20.000000</td>\n",
              "      <td>27.000000</td>\n",
              "      <td>24.000000</td>\n",
              "      <td>4.000000</td>\n",
              "    </tr>\n",
              "    <tr>\n",
              "      <th>25%</th>\n",
              "      <td>1.800000</td>\n",
              "      <td>4.000000</td>\n",
              "      <td>3.000000</td>\n",
              "      <td>22.000000</td>\n",
              "      <td>30.000000</td>\n",
              "      <td>25.000000</td>\n",
              "      <td>5.000000</td>\n",
              "    </tr>\n",
              "    <tr>\n",
              "      <th>50%</th>\n",
              "      <td>2.000000</td>\n",
              "      <td>4.000000</td>\n",
              "      <td>5.000000</td>\n",
              "      <td>24.000000</td>\n",
              "      <td>32.000000</td>\n",
              "      <td>27.000000</td>\n",
              "      <td>6.000000</td>\n",
              "    </tr>\n",
              "    <tr>\n",
              "      <th>75%</th>\n",
              "      <td>2.000000</td>\n",
              "      <td>4.000000</td>\n",
              "      <td>7.000000</td>\n",
              "      <td>27.000000</td>\n",
              "      <td>36.000000</td>\n",
              "      <td>30.000000</td>\n",
              "      <td>7.000000</td>\n",
              "    </tr>\n",
              "    <tr>\n",
              "      <th>max</th>\n",
              "      <td>3.600000</td>\n",
              "      <td>6.000000</td>\n",
              "      <td>7.000000</td>\n",
              "      <td>113.000000</td>\n",
              "      <td>99.000000</td>\n",
              "      <td>106.000000</td>\n",
              "      <td>10.000000</td>\n",
              "    </tr>\n",
              "  </tbody>\n",
              "</table>\n",
              "</div>"
            ],
            "text/plain": [
              "            displ         cyl  ...     cmb_mpg  greenhouse_gas_score\n",
              "count  766.000000  766.000000  ...  766.000000            766.000000\n",
              "mean     2.059399    4.164491  ...   29.506527              6.142298\n",
              "std      0.483705    0.671818  ...    9.584401              1.384078\n",
              "min      1.200000    3.000000  ...   24.000000              4.000000\n",
              "25%      1.800000    4.000000  ...   25.000000              5.000000\n",
              "50%      2.000000    4.000000  ...   27.000000              6.000000\n",
              "75%      2.000000    4.000000  ...   30.000000              7.000000\n",
              "max      3.600000    6.000000  ...  106.000000             10.000000\n",
              "\n",
              "[8 rows x 7 columns]"
            ]
          },
          "metadata": {
            "tags": []
          },
          "execution_count": 160
        }
      ]
    },
    {
      "cell_type": "markdown",
      "metadata": {
        "id": "whSFC9Poq5u9"
      },
      "source": [
        "## For all of the models that were produced in 2008 that are still being produced now, how much has the mpg improved and which vehicle improved the most?"
      ]
    },
    {
      "cell_type": "code",
      "metadata": {
        "id": "WTm5SQU8Ztkw"
      },
      "source": [
        "df_08.rename(columns= lambda x: x[:10]+'_2008',inplace=True)"
      ],
      "execution_count": 161,
      "outputs": []
    },
    {
      "cell_type": "code",
      "metadata": {
        "colab": {
          "base_uri": "https://localhost:8080/",
          "height": 161
        },
        "id": "d4VnSZQIrLpb",
        "outputId": "44698e09-4205-4d4c-9c4b-f6eb5930bb23"
      },
      "source": [
        "df_08.head(2)"
      ],
      "execution_count": 163,
      "outputs": [
        {
          "output_type": "execute_result",
          "data": {
            "text/html": [
              "<div>\n",
              "<style scoped>\n",
              "    .dataframe tbody tr th:only-of-type {\n",
              "        vertical-align: middle;\n",
              "    }\n",
              "\n",
              "    .dataframe tbody tr th {\n",
              "        vertical-align: top;\n",
              "    }\n",
              "\n",
              "    .dataframe thead th {\n",
              "        text-align: right;\n",
              "    }\n",
              "</style>\n",
              "<table border=\"1\" class=\"dataframe\">\n",
              "  <thead>\n",
              "    <tr style=\"text-align: right;\">\n",
              "      <th></th>\n",
              "      <th>model_2008</th>\n",
              "      <th>displ_2008</th>\n",
              "      <th>cyl_2008</th>\n",
              "      <th>trans_2008</th>\n",
              "      <th>drive_2008</th>\n",
              "      <th>fuel_2008</th>\n",
              "      <th>cert_regio_2008</th>\n",
              "      <th>veh_class_2008</th>\n",
              "      <th>air_pollut_2008</th>\n",
              "      <th>city_mpg_2008</th>\n",
              "      <th>hwy_mpg_2008</th>\n",
              "      <th>cmb_mpg_2008</th>\n",
              "      <th>greenhouse_2008</th>\n",
              "      <th>smartway_2008</th>\n",
              "    </tr>\n",
              "  </thead>\n",
              "  <tbody>\n",
              "    <tr>\n",
              "      <th>0</th>\n",
              "      <td>ACURA MDX</td>\n",
              "      <td>3.7</td>\n",
              "      <td>6</td>\n",
              "      <td>Auto-S5</td>\n",
              "      <td>4WD</td>\n",
              "      <td>Gasoline</td>\n",
              "      <td>CA</td>\n",
              "      <td>SUV</td>\n",
              "      <td>7.0</td>\n",
              "      <td>15.0</td>\n",
              "      <td>20.0</td>\n",
              "      <td>17.0</td>\n",
              "      <td>4</td>\n",
              "      <td>no</td>\n",
              "    </tr>\n",
              "    <tr>\n",
              "      <th>1</th>\n",
              "      <td>ACURA MDX</td>\n",
              "      <td>3.7</td>\n",
              "      <td>6</td>\n",
              "      <td>Auto-S5</td>\n",
              "      <td>4WD</td>\n",
              "      <td>Gasoline</td>\n",
              "      <td>FA</td>\n",
              "      <td>SUV</td>\n",
              "      <td>6.0</td>\n",
              "      <td>15.0</td>\n",
              "      <td>20.0</td>\n",
              "      <td>17.0</td>\n",
              "      <td>4</td>\n",
              "      <td>no</td>\n",
              "    </tr>\n",
              "  </tbody>\n",
              "</table>\n",
              "</div>"
            ],
            "text/plain": [
              "  model_2008  displ_2008  cyl_2008  ... cmb_mpg_2008 greenhouse_2008 smartway_2008\n",
              "0  ACURA MDX         3.7         6  ...         17.0               4            no\n",
              "1  ACURA MDX         3.7         6  ...         17.0               4            no\n",
              "\n",
              "[2 rows x 14 columns]"
            ]
          },
          "metadata": {
            "tags": []
          },
          "execution_count": 163
        }
      ]
    },
    {
      "cell_type": "code",
      "metadata": {
        "colab": {
          "base_uri": "https://localhost:8080/",
          "height": 161
        },
        "id": "mRKxVoKfrYNf",
        "outputId": "ebb0a6ae-2f30-4048-bd5b-f38046e49b49"
      },
      "source": [
        "df_combined = df_08.merge(df_18,left_on= 'model_2008',right_on='model')\n",
        "df_combined.head(2)"
      ],
      "execution_count": 164,
      "outputs": [
        {
          "output_type": "execute_result",
          "data": {
            "text/html": [
              "<div>\n",
              "<style scoped>\n",
              "    .dataframe tbody tr th:only-of-type {\n",
              "        vertical-align: middle;\n",
              "    }\n",
              "\n",
              "    .dataframe tbody tr th {\n",
              "        vertical-align: top;\n",
              "    }\n",
              "\n",
              "    .dataframe thead th {\n",
              "        text-align: right;\n",
              "    }\n",
              "</style>\n",
              "<table border=\"1\" class=\"dataframe\">\n",
              "  <thead>\n",
              "    <tr style=\"text-align: right;\">\n",
              "      <th></th>\n",
              "      <th>model_2008</th>\n",
              "      <th>displ_2008</th>\n",
              "      <th>cyl_2008</th>\n",
              "      <th>trans_2008</th>\n",
              "      <th>drive_2008</th>\n",
              "      <th>fuel_2008</th>\n",
              "      <th>cert_regio_2008</th>\n",
              "      <th>veh_class_2008</th>\n",
              "      <th>air_pollut_2008</th>\n",
              "      <th>city_mpg_2008</th>\n",
              "      <th>hwy_mpg_2008</th>\n",
              "      <th>cmb_mpg_2008</th>\n",
              "      <th>greenhouse_2008</th>\n",
              "      <th>smartway_2008</th>\n",
              "      <th>model</th>\n",
              "      <th>displ</th>\n",
              "      <th>cyl</th>\n",
              "      <th>trans</th>\n",
              "      <th>drive</th>\n",
              "      <th>fuel</th>\n",
              "      <th>cert_region</th>\n",
              "      <th>veh_class</th>\n",
              "      <th>air_pollution_score</th>\n",
              "      <th>city_mpg</th>\n",
              "      <th>hwy_mpg</th>\n",
              "      <th>cmb_mpg</th>\n",
              "      <th>greenhouse_gas_score</th>\n",
              "      <th>smartway</th>\n",
              "    </tr>\n",
              "  </thead>\n",
              "  <tbody>\n",
              "    <tr>\n",
              "      <th>0</th>\n",
              "      <td>ACURA RDX</td>\n",
              "      <td>2.3</td>\n",
              "      <td>4</td>\n",
              "      <td>Auto-S5</td>\n",
              "      <td>4WD</td>\n",
              "      <td>Gasoline</td>\n",
              "      <td>CA</td>\n",
              "      <td>SUV</td>\n",
              "      <td>7.0</td>\n",
              "      <td>17.0</td>\n",
              "      <td>22.0</td>\n",
              "      <td>19.0</td>\n",
              "      <td>5</td>\n",
              "      <td>no</td>\n",
              "      <td>ACURA RDX</td>\n",
              "      <td>3.5</td>\n",
              "      <td>6</td>\n",
              "      <td>SemiAuto-6</td>\n",
              "      <td>2WD</td>\n",
              "      <td>Gasoline</td>\n",
              "      <td>FA</td>\n",
              "      <td>small SUV</td>\n",
              "      <td>3.0</td>\n",
              "      <td>20.0</td>\n",
              "      <td>28.0</td>\n",
              "      <td>23.0</td>\n",
              "      <td>5</td>\n",
              "      <td>No</td>\n",
              "    </tr>\n",
              "    <tr>\n",
              "      <th>1</th>\n",
              "      <td>ACURA RDX</td>\n",
              "      <td>2.3</td>\n",
              "      <td>4</td>\n",
              "      <td>Auto-S5</td>\n",
              "      <td>4WD</td>\n",
              "      <td>Gasoline</td>\n",
              "      <td>CA</td>\n",
              "      <td>SUV</td>\n",
              "      <td>7.0</td>\n",
              "      <td>17.0</td>\n",
              "      <td>22.0</td>\n",
              "      <td>19.0</td>\n",
              "      <td>5</td>\n",
              "      <td>no</td>\n",
              "      <td>ACURA RDX</td>\n",
              "      <td>3.5</td>\n",
              "      <td>6</td>\n",
              "      <td>SemiAuto-6</td>\n",
              "      <td>2WD</td>\n",
              "      <td>Gasoline</td>\n",
              "      <td>CA</td>\n",
              "      <td>small SUV</td>\n",
              "      <td>3.0</td>\n",
              "      <td>20.0</td>\n",
              "      <td>28.0</td>\n",
              "      <td>23.0</td>\n",
              "      <td>5</td>\n",
              "      <td>No</td>\n",
              "    </tr>\n",
              "  </tbody>\n",
              "</table>\n",
              "</div>"
            ],
            "text/plain": [
              "  model_2008  displ_2008  cyl_2008  ... cmb_mpg greenhouse_gas_score smartway\n",
              "0  ACURA RDX         2.3         4  ...    23.0                    5       No\n",
              "1  ACURA RDX         2.3         4  ...    23.0                    5       No\n",
              "\n",
              "[2 rows x 28 columns]"
            ]
          },
          "metadata": {
            "tags": []
          },
          "execution_count": 164
        }
      ]
    },
    {
      "cell_type": "code",
      "metadata": {
        "colab": {
          "base_uri": "https://localhost:8080/",
          "height": 283
        },
        "id": "hCxNOiiusBlZ",
        "outputId": "3dce2029-7758-46e4-c179-b85a35d34002"
      },
      "source": [
        "model_mpg = df_combined.groupby('model')['cmb_mpg_2008','cmb_mpg'].mean()\n",
        "model_mpg.head()"
      ],
      "execution_count": 166,
      "outputs": [
        {
          "output_type": "stream",
          "text": [
            "/usr/local/lib/python3.7/dist-packages/ipykernel_launcher.py:1: FutureWarning: Indexing with multiple keys (implicitly converted to a tuple of keys) will be deprecated, use a list instead.\n",
            "  \"\"\"Entry point for launching an IPython kernel.\n"
          ],
          "name": "stderr"
        },
        {
          "output_type": "execute_result",
          "data": {
            "text/html": [
              "<div>\n",
              "<style scoped>\n",
              "    .dataframe tbody tr th:only-of-type {\n",
              "        vertical-align: middle;\n",
              "    }\n",
              "\n",
              "    .dataframe tbody tr th {\n",
              "        vertical-align: top;\n",
              "    }\n",
              "\n",
              "    .dataframe thead th {\n",
              "        text-align: right;\n",
              "    }\n",
              "</style>\n",
              "<table border=\"1\" class=\"dataframe\">\n",
              "  <thead>\n",
              "    <tr style=\"text-align: right;\">\n",
              "      <th></th>\n",
              "      <th>cmb_mpg_2008</th>\n",
              "      <th>cmb_mpg</th>\n",
              "    </tr>\n",
              "    <tr>\n",
              "      <th>model</th>\n",
              "      <th></th>\n",
              "      <th></th>\n",
              "    </tr>\n",
              "  </thead>\n",
              "  <tbody>\n",
              "    <tr>\n",
              "      <th>ACURA RDX</th>\n",
              "      <td>19.000000</td>\n",
              "      <td>22.500000</td>\n",
              "    </tr>\n",
              "    <tr>\n",
              "      <th>AUDI A3</th>\n",
              "      <td>23.333333</td>\n",
              "      <td>28.000000</td>\n",
              "    </tr>\n",
              "    <tr>\n",
              "      <th>AUDI A4</th>\n",
              "      <td>21.000000</td>\n",
              "      <td>27.000000</td>\n",
              "    </tr>\n",
              "    <tr>\n",
              "      <th>AUDI A6</th>\n",
              "      <td>19.666667</td>\n",
              "      <td>25.666667</td>\n",
              "    </tr>\n",
              "    <tr>\n",
              "      <th>AUDI A8 L</th>\n",
              "      <td>16.500000</td>\n",
              "      <td>22.000000</td>\n",
              "    </tr>\n",
              "  </tbody>\n",
              "</table>\n",
              "</div>"
            ],
            "text/plain": [
              "           cmb_mpg_2008    cmb_mpg\n",
              "model                             \n",
              "ACURA RDX     19.000000  22.500000\n",
              "AUDI A3       23.333333  28.000000\n",
              "AUDI A4       21.000000  27.000000\n",
              "AUDI A6       19.666667  25.666667\n",
              "AUDI A8 L     16.500000  22.000000"
            ]
          },
          "metadata": {
            "tags": []
          },
          "execution_count": 166
        }
      ]
    },
    {
      "cell_type": "code",
      "metadata": {
        "colab": {
          "base_uri": "https://localhost:8080/",
          "height": 227
        },
        "id": "yXs4sFD-stys",
        "outputId": "38b3caf7-7e16-4d2e-b7b3-64b76255673c"
      },
      "source": [
        "model_mpg['mpg_change'] = model_mpg.cmb_mpg - model_mpg.cmb_mpg_2008\n",
        "model_mpg.head()"
      ],
      "execution_count": 167,
      "outputs": [
        {
          "output_type": "execute_result",
          "data": {
            "text/html": [
              "<div>\n",
              "<style scoped>\n",
              "    .dataframe tbody tr th:only-of-type {\n",
              "        vertical-align: middle;\n",
              "    }\n",
              "\n",
              "    .dataframe tbody tr th {\n",
              "        vertical-align: top;\n",
              "    }\n",
              "\n",
              "    .dataframe thead th {\n",
              "        text-align: right;\n",
              "    }\n",
              "</style>\n",
              "<table border=\"1\" class=\"dataframe\">\n",
              "  <thead>\n",
              "    <tr style=\"text-align: right;\">\n",
              "      <th></th>\n",
              "      <th>cmb_mpg_2008</th>\n",
              "      <th>cmb_mpg</th>\n",
              "      <th>mpg_change</th>\n",
              "    </tr>\n",
              "    <tr>\n",
              "      <th>model</th>\n",
              "      <th></th>\n",
              "      <th></th>\n",
              "      <th></th>\n",
              "    </tr>\n",
              "  </thead>\n",
              "  <tbody>\n",
              "    <tr>\n",
              "      <th>ACURA RDX</th>\n",
              "      <td>19.000000</td>\n",
              "      <td>22.500000</td>\n",
              "      <td>3.500000</td>\n",
              "    </tr>\n",
              "    <tr>\n",
              "      <th>AUDI A3</th>\n",
              "      <td>23.333333</td>\n",
              "      <td>28.000000</td>\n",
              "      <td>4.666667</td>\n",
              "    </tr>\n",
              "    <tr>\n",
              "      <th>AUDI A4</th>\n",
              "      <td>21.000000</td>\n",
              "      <td>27.000000</td>\n",
              "      <td>6.000000</td>\n",
              "    </tr>\n",
              "    <tr>\n",
              "      <th>AUDI A6</th>\n",
              "      <td>19.666667</td>\n",
              "      <td>25.666667</td>\n",
              "      <td>6.000000</td>\n",
              "    </tr>\n",
              "    <tr>\n",
              "      <th>AUDI A8 L</th>\n",
              "      <td>16.500000</td>\n",
              "      <td>22.000000</td>\n",
              "      <td>5.500000</td>\n",
              "    </tr>\n",
              "  </tbody>\n",
              "</table>\n",
              "</div>"
            ],
            "text/plain": [
              "           cmb_mpg_2008    cmb_mpg  mpg_change\n",
              "model                                         \n",
              "ACURA RDX     19.000000  22.500000    3.500000\n",
              "AUDI A3       23.333333  28.000000    4.666667\n",
              "AUDI A4       21.000000  27.000000    6.000000\n",
              "AUDI A6       19.666667  25.666667    6.000000\n",
              "AUDI A8 L     16.500000  22.000000    5.500000"
            ]
          },
          "metadata": {
            "tags": []
          },
          "execution_count": 167
        }
      ]
    },
    {
      "cell_type": "code",
      "metadata": {
        "colab": {
          "base_uri": "https://localhost:8080/",
          "height": 107
        },
        "id": "ThYRg51ntY6l",
        "outputId": "a1fdf16d-88b1-4126-e093-f839cc30cf3e"
      },
      "source": [
        "model_mpg[model_mpg.mpg_change == model_mpg.mpg_change.max()]"
      ],
      "execution_count": 168,
      "outputs": [
        {
          "output_type": "execute_result",
          "data": {
            "text/html": [
              "<div>\n",
              "<style scoped>\n",
              "    .dataframe tbody tr th:only-of-type {\n",
              "        vertical-align: middle;\n",
              "    }\n",
              "\n",
              "    .dataframe tbody tr th {\n",
              "        vertical-align: top;\n",
              "    }\n",
              "\n",
              "    .dataframe thead th {\n",
              "        text-align: right;\n",
              "    }\n",
              "</style>\n",
              "<table border=\"1\" class=\"dataframe\">\n",
              "  <thead>\n",
              "    <tr style=\"text-align: right;\">\n",
              "      <th></th>\n",
              "      <th>cmb_mpg_2008</th>\n",
              "      <th>cmb_mpg</th>\n",
              "      <th>mpg_change</th>\n",
              "    </tr>\n",
              "    <tr>\n",
              "      <th>model</th>\n",
              "      <th></th>\n",
              "      <th></th>\n",
              "      <th></th>\n",
              "    </tr>\n",
              "  </thead>\n",
              "  <tbody>\n",
              "    <tr>\n",
              "      <th>VOLVO XC 90</th>\n",
              "      <td>15.666667</td>\n",
              "      <td>32.2</td>\n",
              "      <td>16.533333</td>\n",
              "    </tr>\n",
              "  </tbody>\n",
              "</table>\n",
              "</div>"
            ],
            "text/plain": [
              "             cmb_mpg_2008  cmb_mpg  mpg_change\n",
              "model                                         \n",
              "VOLVO XC 90     15.666667     32.2   16.533333"
            ]
          },
          "metadata": {
            "tags": []
          },
          "execution_count": 168
        }
      ]
    },
    {
      "cell_type": "code",
      "metadata": {
        "id": "7cEEYvwutrJk"
      },
      "source": [
        ""
      ],
      "execution_count": null,
      "outputs": []
    }
  ]
}